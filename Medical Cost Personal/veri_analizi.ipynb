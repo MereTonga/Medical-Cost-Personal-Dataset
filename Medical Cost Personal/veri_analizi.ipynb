{
 "cells": [
  {
   "cell_type": "markdown",
   "id": "71180e50",
   "metadata": {},
   "source": [
    "## 1. Proje Konusu, Amacı ve Veri Seti Açıklaması\n",
    "\n",
    "### 🔍 Projenin Konusu\n",
    "Bu projenin konusu, bireylerin çeşitli demografik ve sağlıkla ilgili özelliklerine göre **sağlık sigortası maliyetlerini (charges)** tahmin etmektir. Amaç, bireylerin yaş, cinsiyet, vücut kitle indeksi (BMI), çocuk sayısı, sigara içme durumu ve yaşadığı bölge gibi faktörlerin sağlık sigortası maliyeti üzerindeki etkilerini istatistiksel olarak analiz etmek ve bir **lineer regresyon modeli** oluşturarak bu maliyetleri tahmin etmektir.\n",
    "\n",
    "### 🎯 Projenin Amacı\n",
    "- Sağlık sigortası ücretlerini etkileyen faktörleri belirlemek.\n",
    "- En etkili bağımsız değişkenleri ortaya çıkarmak.\n",
    "- Lineer regresyon modeli kurarak gelecekteki benzer bireylerin sigorta ücretlerini tahmin edebilmek.\n",
    "- Güven aralıkları ve hipotez testleri ile istatistiksel olarak sonuçları desteklemek.\n",
    "\n",
    "### 📊 Değişkenler\n",
    "Proje kapsamında kullanılan değişkenler aşağıdaki gibidir:\n",
    "\n",
    "| Değişken Adı | Açıklama | Tür | Rolü |\n",
    "|--------------|----------|-----|------|\n",
    "| `age`        | Bireyin yaşı | Sayısal (numerik) | Bağımsız değişken |\n",
    "| `sex`        | Cinsiyet (male/female) | Kategorik | Bağımsız değişken |\n",
    "| `bmi`        | Vücut Kitle İndeksi | Sayısal | Bağımsız değişken |\n",
    "| `children`   | Çocuk sayısı | Sayısal | Bağımsız değişken |\n",
    "| `smoker`     | Sigara içme durumu (yes/no) | Kategorik | Bağımsız değişken |\n",
    "| `region`     | Yaşanılan bölge | Kategorik | Bağımsız değişken |\n",
    "| `charges`    | Sağlık sigortası ücreti | Sayısal | **Bağımlı değişken (Y)** |\n",
    "\n",
    "> Bu projede `charges` değişkeni bağımlı değişken olarak belirlenmiştir. Diğer tüm değişkenler bağımsız değişken olarak modellenmiştir.\n",
    "\n",
    "### 📁 Kullanılan Veri Seti Hakkında\n",
    "Veri seti, sağlık sigortası sistemine kayıtlı 1338 bireye ait demografik ve sağlık bilgilerini içermektedir. Aşağıda veri setine dair genel bilgiler yer almaktadır:\n",
    "\n",
    "- Toplam Gözlem Sayısı: **1338**\n",
    "- Eksik Veri: **Yok**\n",
    "- Sayısal Değişkenler: `age`, `bmi`, `children`, `charges`\n",
    "- Kategorik Değişkenler: `sex`, `smoker`, `region`\n",
    "\n",
    "Veri seti, sağlık sigortası analizlerinde yaygın olarak kullanılan ve `insurance.csv` adlı bir dosya olarak sağlanmaktadır. Çalışma kapsamında bu veri seti üzerinde istatistiksel analiz, veri görselleştirme ve makine öğrenmesi yöntemleri uygulanacaktır.\n"
   ]
  },
  {
   "cell_type": "markdown",
   "id": "17bd416e",
   "metadata": {},
   "source": [
    "## 2. Gerekli Kütüphanelerin Yüklenmesi\n",
    "\n",
    "Bu projede veri analizi, görselleştirme, istatistiksel testler ve regresyon modellemesi için çeşitli Python kütüphaneleri kullanılmıştır. Aşağıda kullanılan kütüphaneler ve işlevleri özetlenmiştir:\n",
    "\n",
    "### 📦 Kullanılan Kütüphaneler\n",
    "\n",
    "| Kütüphane | Kullanım Amacı |\n",
    "|-----------|----------------|\n",
    "| `numpy` | Sayısal işlemler ve matematiksel hesaplamalar için kullanılır. |\n",
    "| `pandas` | Veri çerçevesi (DataFrame) yapıları üzerinde işlem yapabilmek için kullanılır. Veri okuma, filtreleme, özetleme gibi işlemleri sağlar. |\n",
    "| `seaborn` | İleri düzey istatistiksel grafikler çizmek için kullanılır. `matplotlib` üzerine kuruludur. |\n",
    "| `matplotlib.pyplot` | Grafik ve veri görselleştirme işlemleri için kullanılır. |\n",
    "| `sklearn.linear_model.LinearRegression` | Lineer regresyon modelini oluşturmak için kullanılır. |\n",
    "| `sklearn.model_selection.train_test_split` | Veriyi eğitim ve test olarak ayırmak için kullanılır. |\n",
    "| `sklearn.preprocessing.LabelEncoder` | Kategorik verileri sayısal forma dönüştürmek için kullanılır. |\n",
    "| `sklearn.preprocessing.StandardScaler` | Sayısal verileri standartlaştırmak (ölçeklemek) için kullanılır. |\n",
    "| `sklearn.metrics` | Modelin performansını değerlendirmek için kullanılan hata ölçütlerini içerir (`MAE`, `MSE`, `R²`). |\n",
    "| `scipy.stats` | İstatistiksel testler, güven aralıkları ve olasılık dağılımları hesaplamak için kullanılır. |"
   ]
  },
  {
   "cell_type": "code",
   "execution_count": 1,
   "id": "b67fed56",
   "metadata": {},
   "outputs": [],
   "source": [
    "import numpy as np\n",
    "import pandas as pd\n",
    "import seaborn as sns\n",
    "import matplotlib.pyplot as plt\n",
    "from sklearn.linear_model import LinearRegression\n",
    "from sklearn.model_selection import train_test_split\n",
    "from sklearn.preprocessing import LabelEncoder, StandardScaler\n",
    "from sklearn.metrics import mean_squared_error,mean_absolute_error,r2_score\n",
    "\n",
    "import scipy.stats as stats"
   ]
  },
  {
   "cell_type": "markdown",
   "id": "0f8f4b03",
   "metadata": {},
   "source": [
    "## 3. Veri Setinin Yüklenmesi ve Keşfi"
   ]
  },
  {
   "cell_type": "code",
   "execution_count": 2,
   "id": "5b8e0db7",
   "metadata": {},
   "outputs": [],
   "source": [
    "df = pd.read_csv(\"insurance.csv\") # Veri setimizi df değişkenine aktarıyoruz"
   ]
  },
  {
   "cell_type": "code",
   "execution_count": 3,
   "id": "1ef70fe3",
   "metadata": {},
   "outputs": [
    {
     "data": {
      "application/vnd.microsoft.datawrangler.viewer.v0+json": {
       "columns": [
        {
         "name": "index",
         "rawType": "int64",
         "type": "integer"
        },
        {
         "name": "age",
         "rawType": "int64",
         "type": "integer"
        },
        {
         "name": "sex",
         "rawType": "object",
         "type": "string"
        },
        {
         "name": "bmi",
         "rawType": "float64",
         "type": "float"
        },
        {
         "name": "children",
         "rawType": "int64",
         "type": "integer"
        },
        {
         "name": "smoker",
         "rawType": "object",
         "type": "string"
        },
        {
         "name": "region",
         "rawType": "object",
         "type": "string"
        },
        {
         "name": "charges",
         "rawType": "float64",
         "type": "float"
        }
       ],
       "ref": "cdc02cdc-e027-4271-b1c1-1e2df17c3a8d",
       "rows": [
        [
         "0",
         "19",
         "female",
         "27.9",
         "0",
         "yes",
         "southwest",
         "16884.924"
        ],
        [
         "1",
         "18",
         "male",
         "33.77",
         "1",
         "no",
         "southeast",
         "1725.5523"
        ],
        [
         "2",
         "28",
         "male",
         "33.0",
         "3",
         "no",
         "southeast",
         "4449.462"
        ],
        [
         "3",
         "33",
         "male",
         "22.705",
         "0",
         "no",
         "northwest",
         "21984.47061"
        ],
        [
         "4",
         "32",
         "male",
         "28.88",
         "0",
         "no",
         "northwest",
         "3866.8552"
        ]
       ],
       "shape": {
        "columns": 7,
        "rows": 5
       }
      },
      "text/html": [
       "<div>\n",
       "<style scoped>\n",
       "    .dataframe tbody tr th:only-of-type {\n",
       "        vertical-align: middle;\n",
       "    }\n",
       "\n",
       "    .dataframe tbody tr th {\n",
       "        vertical-align: top;\n",
       "    }\n",
       "\n",
       "    .dataframe thead th {\n",
       "        text-align: right;\n",
       "    }\n",
       "</style>\n",
       "<table border=\"1\" class=\"dataframe\">\n",
       "  <thead>\n",
       "    <tr style=\"text-align: right;\">\n",
       "      <th></th>\n",
       "      <th>age</th>\n",
       "      <th>sex</th>\n",
       "      <th>bmi</th>\n",
       "      <th>children</th>\n",
       "      <th>smoker</th>\n",
       "      <th>region</th>\n",
       "      <th>charges</th>\n",
       "    </tr>\n",
       "  </thead>\n",
       "  <tbody>\n",
       "    <tr>\n",
       "      <th>0</th>\n",
       "      <td>19</td>\n",
       "      <td>female</td>\n",
       "      <td>27.900</td>\n",
       "      <td>0</td>\n",
       "      <td>yes</td>\n",
       "      <td>southwest</td>\n",
       "      <td>16884.92400</td>\n",
       "    </tr>\n",
       "    <tr>\n",
       "      <th>1</th>\n",
       "      <td>18</td>\n",
       "      <td>male</td>\n",
       "      <td>33.770</td>\n",
       "      <td>1</td>\n",
       "      <td>no</td>\n",
       "      <td>southeast</td>\n",
       "      <td>1725.55230</td>\n",
       "    </tr>\n",
       "    <tr>\n",
       "      <th>2</th>\n",
       "      <td>28</td>\n",
       "      <td>male</td>\n",
       "      <td>33.000</td>\n",
       "      <td>3</td>\n",
       "      <td>no</td>\n",
       "      <td>southeast</td>\n",
       "      <td>4449.46200</td>\n",
       "    </tr>\n",
       "    <tr>\n",
       "      <th>3</th>\n",
       "      <td>33</td>\n",
       "      <td>male</td>\n",
       "      <td>22.705</td>\n",
       "      <td>0</td>\n",
       "      <td>no</td>\n",
       "      <td>northwest</td>\n",
       "      <td>21984.47061</td>\n",
       "    </tr>\n",
       "    <tr>\n",
       "      <th>4</th>\n",
       "      <td>32</td>\n",
       "      <td>male</td>\n",
       "      <td>28.880</td>\n",
       "      <td>0</td>\n",
       "      <td>no</td>\n",
       "      <td>northwest</td>\n",
       "      <td>3866.85520</td>\n",
       "    </tr>\n",
       "  </tbody>\n",
       "</table>\n",
       "</div>"
      ],
      "text/plain": [
       "   age     sex     bmi  children smoker     region      charges\n",
       "0   19  female  27.900         0    yes  southwest  16884.92400\n",
       "1   18    male  33.770         1     no  southeast   1725.55230\n",
       "2   28    male  33.000         3     no  southeast   4449.46200\n",
       "3   33    male  22.705         0     no  northwest  21984.47061\n",
       "4   32    male  28.880         0     no  northwest   3866.85520"
      ]
     },
     "execution_count": 3,
     "metadata": {},
     "output_type": "execute_result"
    }
   ],
   "source": [
    "df.head() # Veri setimizin ilk 5 satırı"
   ]
  },
  {
   "cell_type": "code",
   "execution_count": 4,
   "id": "42f6fbe3",
   "metadata": {},
   "outputs": [
    {
     "data": {
      "application/vnd.microsoft.datawrangler.viewer.v0+json": {
       "columns": [
        {
         "name": "index",
         "rawType": "int64",
         "type": "integer"
        },
        {
         "name": "age",
         "rawType": "int64",
         "type": "integer"
        },
        {
         "name": "sex",
         "rawType": "object",
         "type": "string"
        },
        {
         "name": "bmi",
         "rawType": "float64",
         "type": "float"
        },
        {
         "name": "children",
         "rawType": "int64",
         "type": "integer"
        },
        {
         "name": "smoker",
         "rawType": "object",
         "type": "string"
        },
        {
         "name": "region",
         "rawType": "object",
         "type": "string"
        },
        {
         "name": "charges",
         "rawType": "float64",
         "type": "float"
        }
       ],
       "ref": "85301ff5-c01b-4c64-b517-49fc324105b6",
       "rows": [
        [
         "1333",
         "50",
         "male",
         "30.97",
         "3",
         "no",
         "northwest",
         "10600.5483"
        ],
        [
         "1334",
         "18",
         "female",
         "31.92",
         "0",
         "no",
         "northeast",
         "2205.9808"
        ],
        [
         "1335",
         "18",
         "female",
         "36.85",
         "0",
         "no",
         "southeast",
         "1629.8335"
        ],
        [
         "1336",
         "21",
         "female",
         "25.8",
         "0",
         "no",
         "southwest",
         "2007.945"
        ],
        [
         "1337",
         "61",
         "female",
         "29.07",
         "0",
         "yes",
         "northwest",
         "29141.3603"
        ]
       ],
       "shape": {
        "columns": 7,
        "rows": 5
       }
      },
      "text/html": [
       "<div>\n",
       "<style scoped>\n",
       "    .dataframe tbody tr th:only-of-type {\n",
       "        vertical-align: middle;\n",
       "    }\n",
       "\n",
       "    .dataframe tbody tr th {\n",
       "        vertical-align: top;\n",
       "    }\n",
       "\n",
       "    .dataframe thead th {\n",
       "        text-align: right;\n",
       "    }\n",
       "</style>\n",
       "<table border=\"1\" class=\"dataframe\">\n",
       "  <thead>\n",
       "    <tr style=\"text-align: right;\">\n",
       "      <th></th>\n",
       "      <th>age</th>\n",
       "      <th>sex</th>\n",
       "      <th>bmi</th>\n",
       "      <th>children</th>\n",
       "      <th>smoker</th>\n",
       "      <th>region</th>\n",
       "      <th>charges</th>\n",
       "    </tr>\n",
       "  </thead>\n",
       "  <tbody>\n",
       "    <tr>\n",
       "      <th>1333</th>\n",
       "      <td>50</td>\n",
       "      <td>male</td>\n",
       "      <td>30.97</td>\n",
       "      <td>3</td>\n",
       "      <td>no</td>\n",
       "      <td>northwest</td>\n",
       "      <td>10600.5483</td>\n",
       "    </tr>\n",
       "    <tr>\n",
       "      <th>1334</th>\n",
       "      <td>18</td>\n",
       "      <td>female</td>\n",
       "      <td>31.92</td>\n",
       "      <td>0</td>\n",
       "      <td>no</td>\n",
       "      <td>northeast</td>\n",
       "      <td>2205.9808</td>\n",
       "    </tr>\n",
       "    <tr>\n",
       "      <th>1335</th>\n",
       "      <td>18</td>\n",
       "      <td>female</td>\n",
       "      <td>36.85</td>\n",
       "      <td>0</td>\n",
       "      <td>no</td>\n",
       "      <td>southeast</td>\n",
       "      <td>1629.8335</td>\n",
       "    </tr>\n",
       "    <tr>\n",
       "      <th>1336</th>\n",
       "      <td>21</td>\n",
       "      <td>female</td>\n",
       "      <td>25.80</td>\n",
       "      <td>0</td>\n",
       "      <td>no</td>\n",
       "      <td>southwest</td>\n",
       "      <td>2007.9450</td>\n",
       "    </tr>\n",
       "    <tr>\n",
       "      <th>1337</th>\n",
       "      <td>61</td>\n",
       "      <td>female</td>\n",
       "      <td>29.07</td>\n",
       "      <td>0</td>\n",
       "      <td>yes</td>\n",
       "      <td>northwest</td>\n",
       "      <td>29141.3603</td>\n",
       "    </tr>\n",
       "  </tbody>\n",
       "</table>\n",
       "</div>"
      ],
      "text/plain": [
       "      age     sex    bmi  children smoker     region     charges\n",
       "1333   50    male  30.97         3     no  northwest  10600.5483\n",
       "1334   18  female  31.92         0     no  northeast   2205.9808\n",
       "1335   18  female  36.85         0     no  southeast   1629.8335\n",
       "1336   21  female  25.80         0     no  southwest   2007.9450\n",
       "1337   61  female  29.07         0    yes  northwest  29141.3603"
      ]
     },
     "execution_count": 4,
     "metadata": {},
     "output_type": "execute_result"
    }
   ],
   "source": [
    "df.tail() # Veri setimizin son 5 satırı"
   ]
  },
  {
   "cell_type": "code",
   "execution_count": 5,
   "id": "d29af231",
   "metadata": {},
   "outputs": [
    {
     "name": "stdout",
     "output_type": "stream",
     "text": [
      "<class 'pandas.core.frame.DataFrame'>\n",
      "RangeIndex: 1338 entries, 0 to 1337\n",
      "Data columns (total 7 columns):\n",
      " #   Column    Non-Null Count  Dtype  \n",
      "---  ------    --------------  -----  \n",
      " 0   age       1338 non-null   int64  \n",
      " 1   sex       1338 non-null   object \n",
      " 2   bmi       1338 non-null   float64\n",
      " 3   children  1338 non-null   int64  \n",
      " 4   smoker    1338 non-null   object \n",
      " 5   region    1338 non-null   object \n",
      " 6   charges   1338 non-null   float64\n",
      "dtypes: float64(2), int64(2), object(3)\n",
      "memory usage: 73.3+ KB\n"
     ]
    }
   ],
   "source": [
    "df.info() # Veri setimiz hakkında bilgiler"
   ]
  },
  {
   "cell_type": "code",
   "execution_count": 6,
   "id": "0090cc9a",
   "metadata": {},
   "outputs": [
    {
     "data": {
      "application/vnd.microsoft.datawrangler.viewer.v0+json": {
       "columns": [
        {
         "name": "index",
         "rawType": "object",
         "type": "string"
        },
        {
         "name": "0",
         "rawType": "int64",
         "type": "integer"
        }
       ],
       "ref": "8a5e4dc9-94b1-4dbf-8109-af445d12a711",
       "rows": [
        [
         "age",
         "0"
        ],
        [
         "sex",
         "0"
        ],
        [
         "bmi",
         "0"
        ],
        [
         "children",
         "0"
        ],
        [
         "smoker",
         "0"
        ],
        [
         "region",
         "0"
        ],
        [
         "charges",
         "0"
        ]
       ],
       "shape": {
        "columns": 1,
        "rows": 7
       }
      },
      "text/plain": [
       "age         0\n",
       "sex         0\n",
       "bmi         0\n",
       "children    0\n",
       "smoker      0\n",
       "region      0\n",
       "charges     0\n",
       "dtype: int64"
      ]
     },
     "execution_count": 6,
     "metadata": {},
     "output_type": "execute_result"
    }
   ],
   "source": [
    "df.isnull().sum() # Veri setimizde eksik verilerin toplamı"
   ]
  },
  {
   "cell_type": "code",
   "execution_count": 7,
   "id": "f52d1cc5",
   "metadata": {},
   "outputs": [
    {
     "data": {
      "application/vnd.microsoft.datawrangler.viewer.v0+json": {
       "columns": [
        {
         "name": "index",
         "rawType": "object",
         "type": "string"
        },
        {
         "name": "age",
         "rawType": "float64",
         "type": "float"
        },
        {
         "name": "bmi",
         "rawType": "float64",
         "type": "float"
        },
        {
         "name": "children",
         "rawType": "float64",
         "type": "float"
        },
        {
         "name": "charges",
         "rawType": "float64",
         "type": "float"
        }
       ],
       "ref": "0c817a31-1b2f-431b-be7b-d21f229d48ae",
       "rows": [
        [
         "count",
         "1338.0",
         "1338.0",
         "1338.0",
         "1338.0"
        ],
        [
         "mean",
         "39.20702541106129",
         "30.66339686098655",
         "1.0949177877429",
         "13270.422265141257"
        ],
        [
         "std",
         "14.049960379216154",
         "6.098186911679014",
         "1.205492739781914",
         "12110.011236694001"
        ],
        [
         "min",
         "18.0",
         "15.96",
         "0.0",
         "1121.8739"
        ],
        [
         "25%",
         "27.0",
         "26.29625",
         "0.0",
         "4740.28715"
        ],
        [
         "50%",
         "39.0",
         "30.4",
         "1.0",
         "9382.033"
        ],
        [
         "75%",
         "51.0",
         "34.69375",
         "2.0",
         "16639.912515"
        ],
        [
         "max",
         "64.0",
         "53.13",
         "5.0",
         "63770.42801"
        ]
       ],
       "shape": {
        "columns": 4,
        "rows": 8
       }
      },
      "text/html": [
       "<div>\n",
       "<style scoped>\n",
       "    .dataframe tbody tr th:only-of-type {\n",
       "        vertical-align: middle;\n",
       "    }\n",
       "\n",
       "    .dataframe tbody tr th {\n",
       "        vertical-align: top;\n",
       "    }\n",
       "\n",
       "    .dataframe thead th {\n",
       "        text-align: right;\n",
       "    }\n",
       "</style>\n",
       "<table border=\"1\" class=\"dataframe\">\n",
       "  <thead>\n",
       "    <tr style=\"text-align: right;\">\n",
       "      <th></th>\n",
       "      <th>age</th>\n",
       "      <th>bmi</th>\n",
       "      <th>children</th>\n",
       "      <th>charges</th>\n",
       "    </tr>\n",
       "  </thead>\n",
       "  <tbody>\n",
       "    <tr>\n",
       "      <th>count</th>\n",
       "      <td>1338.000000</td>\n",
       "      <td>1338.000000</td>\n",
       "      <td>1338.000000</td>\n",
       "      <td>1338.000000</td>\n",
       "    </tr>\n",
       "    <tr>\n",
       "      <th>mean</th>\n",
       "      <td>39.207025</td>\n",
       "      <td>30.663397</td>\n",
       "      <td>1.094918</td>\n",
       "      <td>13270.422265</td>\n",
       "    </tr>\n",
       "    <tr>\n",
       "      <th>std</th>\n",
       "      <td>14.049960</td>\n",
       "      <td>6.098187</td>\n",
       "      <td>1.205493</td>\n",
       "      <td>12110.011237</td>\n",
       "    </tr>\n",
       "    <tr>\n",
       "      <th>min</th>\n",
       "      <td>18.000000</td>\n",
       "      <td>15.960000</td>\n",
       "      <td>0.000000</td>\n",
       "      <td>1121.873900</td>\n",
       "    </tr>\n",
       "    <tr>\n",
       "      <th>25%</th>\n",
       "      <td>27.000000</td>\n",
       "      <td>26.296250</td>\n",
       "      <td>0.000000</td>\n",
       "      <td>4740.287150</td>\n",
       "    </tr>\n",
       "    <tr>\n",
       "      <th>50%</th>\n",
       "      <td>39.000000</td>\n",
       "      <td>30.400000</td>\n",
       "      <td>1.000000</td>\n",
       "      <td>9382.033000</td>\n",
       "    </tr>\n",
       "    <tr>\n",
       "      <th>75%</th>\n",
       "      <td>51.000000</td>\n",
       "      <td>34.693750</td>\n",
       "      <td>2.000000</td>\n",
       "      <td>16639.912515</td>\n",
       "    </tr>\n",
       "    <tr>\n",
       "      <th>max</th>\n",
       "      <td>64.000000</td>\n",
       "      <td>53.130000</td>\n",
       "      <td>5.000000</td>\n",
       "      <td>63770.428010</td>\n",
       "    </tr>\n",
       "  </tbody>\n",
       "</table>\n",
       "</div>"
      ],
      "text/plain": [
       "               age          bmi     children       charges\n",
       "count  1338.000000  1338.000000  1338.000000   1338.000000\n",
       "mean     39.207025    30.663397     1.094918  13270.422265\n",
       "std      14.049960     6.098187     1.205493  12110.011237\n",
       "min      18.000000    15.960000     0.000000   1121.873900\n",
       "25%      27.000000    26.296250     0.000000   4740.287150\n",
       "50%      39.000000    30.400000     1.000000   9382.033000\n",
       "75%      51.000000    34.693750     2.000000  16639.912515\n",
       "max      64.000000    53.130000     5.000000  63770.428010"
      ]
     },
     "execution_count": 7,
     "metadata": {},
     "output_type": "execute_result"
    }
   ],
   "source": [
    "df.describe() # Veri setimizin açıklaması (4 sayısal veri olduğu için, 4 tane sütun var)"
   ]
  },
  {
   "cell_type": "markdown",
   "id": "7881b00a",
   "metadata": {},
   "source": [
    "- count: Veri setindeki geçerli (null olmayan) eleman sayısı\n",
    "- mean: Ortalama\n",
    "- std: Standart sapma\n",
    "- min: Minimum değer\n",
    "- 25%: 1. çeyrek (Q1), yani veri setinin %25'inin altında kalan değer\n",
    "- 50%: Medyan (Q2), veri setinin ortası\n",
    "- 75%: 3. çeyrek (Q3), yani veri setinin %75'inin altında kalan değer\n",
    "- max: Maksimum değer"
   ]
  },
  {
   "cell_type": "code",
   "execution_count": null,
   "id": "505ec80a",
   "metadata": {},
   "outputs": [
    {
     "data": {
      "application/vnd.microsoft.datawrangler.viewer.v0+json": {
       "columns": [
        {
         "name": "sex",
         "rawType": "object",
         "type": "string"
        },
        {
         "name": "count",
         "rawType": "int64",
         "type": "integer"
        }
       ],
       "ref": "b07905ce-3d02-40ee-9f5b-a679863f67c9",
       "rows": [
        [
         "male",
         "676"
        ],
        [
         "female",
         "662"
        ]
       ],
       "shape": {
        "columns": 1,
        "rows": 2
       }
      },
      "text/plain": [
       "sex\n",
       "male      676\n",
       "female    662\n",
       "Name: count, dtype: int64"
      ]
     },
     "execution_count": 8,
     "metadata": {},
     "output_type": "execute_result"
    }
   ],
   "source": [
    "df[\"sex\"].value_counts() # Kadın,Erkek Sayısı"
   ]
  },
  {
   "cell_type": "code",
   "execution_count": null,
   "id": "fd41b6fb",
   "metadata": {},
   "outputs": [
    {
     "data": {
      "application/vnd.microsoft.datawrangler.viewer.v0+json": {
       "columns": [
        {
         "name": "smoker",
         "rawType": "object",
         "type": "string"
        },
        {
         "name": "count",
         "rawType": "int64",
         "type": "integer"
        }
       ],
       "ref": "1131ed1e-e23c-4574-a349-469bcffaedb2",
       "rows": [
        [
         "no",
         "1064"
        ],
        [
         "yes",
         "274"
        ]
       ],
       "shape": {
        "columns": 1,
        "rows": 2
       }
      },
      "text/plain": [
       "smoker\n",
       "no     1064\n",
       "yes     274\n",
       "Name: count, dtype: int64"
      ]
     },
     "execution_count": 9,
     "metadata": {},
     "output_type": "execute_result"
    }
   ],
   "source": [
    "df[\"smoker\"].value_counts() # Sigara içen,içmeyen sayısı"
   ]
  },
  {
   "cell_type": "code",
   "execution_count": null,
   "id": "a9b728f6",
   "metadata": {},
   "outputs": [
    {
     "data": {
      "application/vnd.microsoft.datawrangler.viewer.v0+json": {
       "columns": [
        {
         "name": "region",
         "rawType": "object",
         "type": "string"
        },
        {
         "name": "count",
         "rawType": "int64",
         "type": "integer"
        }
       ],
       "ref": "fcdbef5b-54ef-4e64-9051-b867ba2b0171",
       "rows": [
        [
         "southeast",
         "364"
        ],
        [
         "southwest",
         "325"
        ],
        [
         "northwest",
         "325"
        ],
        [
         "northeast",
         "324"
        ]
       ],
       "shape": {
        "columns": 1,
        "rows": 4
       }
      },
      "text/plain": [
       "region\n",
       "southeast    364\n",
       "southwest    325\n",
       "northwest    325\n",
       "northeast    324\n",
       "Name: count, dtype: int64"
      ]
     },
     "execution_count": 10,
     "metadata": {},
     "output_type": "execute_result"
    }
   ],
   "source": [
    "df[\"region\"].value_counts() # Bölgelerdeki insan sayısı"
   ]
  },
  {
   "cell_type": "code",
   "execution_count": 11,
   "id": "3fd1f2d9",
   "metadata": {},
   "outputs": [
    {
     "name": "stdout",
     "output_type": "stream",
     "text": [
      "Sigara İçen Kadın Sayısı: 115\n",
      "Sigara İçmeyen Kadın Sayısı: 547\n",
      "Sigara İçen Erkek Sayısı: 159\n",
      "Sigara İçmeyen Erkek Sayısı: 517\n"
     ]
    }
   ],
   "source": [
    "sigara_icen_kadin_sayisi = len(df[(df[\"smoker\"] == \"yes\") & (df[\"sex\"] == \"female\")]) \n",
    "sigara_icen_erkek_sayisi = len(df[(df[\"smoker\"] == \"yes\") & (df[\"sex\"] == \"male\")])\n",
    "\n",
    "print(f\"Sigara İçen Kadın Sayısı: {sigara_icen_kadin_sayisi}\")\n",
    "print(f\"Sigara İçmeyen Kadın Sayısı: {len(df[df[\"sex\"] == \"female\"]) - sigara_icen_kadin_sayisi}\")\n",
    "print(f\"Sigara İçen Erkek Sayısı: {sigara_icen_erkek_sayisi}\")\n",
    "print(f\"Sigara İçmeyen Erkek Sayısı: {len(df[df[\"sex\"] == \"male\"]) - sigara_icen_erkek_sayisi}\")"
   ]
  },
  {
   "cell_type": "code",
   "execution_count": 12,
   "id": "16ddaba0",
   "metadata": {},
   "outputs": [
    {
     "name": "stdout",
     "output_type": "stream",
     "text": [
      "Kategorik değişkenler: ['sex', 'smoker', 'region']\n"
     ]
    }
   ],
   "source": [
    "# Kategorik Değişkenler\n",
    "kategorik = df.select_dtypes(include='object')\n",
    "print(\"Kategorik değişkenler:\", kategorik.columns.tolist())"
   ]
  },
  {
   "cell_type": "code",
   "execution_count": 13,
   "id": "973ca044",
   "metadata": {},
   "outputs": [
    {
     "name": "stdout",
     "output_type": "stream",
     "text": [
      "Sayısal değişkenler: ['age', 'bmi', 'children', 'charges']\n"
     ]
    }
   ],
   "source": [
    "# Sayısal Değişkenler\n",
    "sayisal = df.select_dtypes(include='number')\n",
    "print(\"Sayısal değişkenler:\", sayisal.columns.tolist())"
   ]
  },
  {
   "cell_type": "markdown",
   "id": "3e3ac2b2",
   "metadata": {},
   "source": [
    "## 5. Bağımlı Değişkenin (charges) Ana Kütle Ortalaması İçin Güven Aralığı\n",
    "\n",
    "Bu bölümde, bağımlı değişken olan `charges` değişkeninin, yani bireylerin sağlık sigortası maliyetlerinin, **ana kütle ortalaması** için %95 güven aralığı hesaplanmıştır.\n",
    "\n",
    "---\n",
    "\n",
    "### 📌 İstatistiksel Arka Plan\n",
    "\n",
    "Bir örneklemden elde edilen ortalamanın, ana kütle ortalamasını tahmin etmek için kullanılabileceği varsayılır. Bu amaçla kullanılan güven aralığı aşağıdaki formülle hesaplanır:\n",
    "\n",
    "#### Güven Aralığı Formülü (t-dağılımı ile):\n",
    "\n",
    "$$\\bar{x} \\pm t_{\\alpha/2, n-1} \\cdot \\frac{s}{\\sqrt{n}}$$\n",
    "\n",
    "| Sembol | Anlamı |\n",
    "|--------|--------|\n",
    "| $\\bar{x}$ | Örneklem ortalaması |\n",
    "| $t_{\\alpha/2, n-1}$ | t-dağılımı kritik değeri |\n",
    "| $s$ | Örneklem standart sapması |\n",
    "| $n$ | Örneklem büyüklüğü |\n",
    "\n",
    "Bu formül, özellikle ana kütle standart sapması bilinmediğinde ve örneklem sayısı nispeten küçükse kullanılır."
   ]
  },
  {
   "cell_type": "code",
   "execution_count": 14,
   "id": "6cf44509",
   "metadata": {},
   "outputs": [
    {
     "name": "stdout",
     "output_type": "stream",
     "text": [
      "%95 güven aralığı: (12620.95, 13919.89)\n"
     ]
    }
   ],
   "source": [
    "# Veriler\n",
    "charges = df['charges']\n",
    "n = len(charges)\n",
    "mean = np.mean(charges)\n",
    "std_err = stats.sem(charges)  # standard error of the mean\n",
    "confidence = 0.95\n",
    "\n",
    "# t-kritik değeri\n",
    "t_value = stats.t.ppf((1 + confidence) / 2, df=n - 1)\n",
    "\n",
    "# Güven aralığı hesaplama\n",
    "margin_of_error = t_value * std_err\n",
    "lower_bound = mean - margin_of_error\n",
    "upper_bound = mean + margin_of_error\n",
    "\n",
    "print(f\"%{confidence*100:.0f} güven aralığı: ({lower_bound:.2f}, {upper_bound:.2f})\")"
   ]
  },
  {
   "cell_type": "markdown",
   "id": "c52d910f",
   "metadata": {},
   "source": [
    "Açıklama:\n",
    " - Sağlık sigortası ücretlerinin (charges) ortalaması için hesaplanan güven aralığı, maliyetlerin genellikle hangi düzeylerde seyrettiğini gösterir."
   ]
  },
  {
   "cell_type": "markdown",
   "id": "401e39d0",
   "metadata": {},
   "source": [
    "## 6. Bağımlı Değişkenin (charges) Ana Kütle Ortalaması İçin Hipotez Testi\n",
    "\n",
    "Bu aşamada, sağlık sigortası maliyetlerinin (charges) ortalamasının belirli bir değere eşit olup olmadığı test edilmiştir.\n",
    "\n",
    "---\n",
    "\n",
    "### 🧮 Hipotezlerin Belirlenmesi\n",
    "\n",
    "Bir örnek hipotez testi için, varsayalım ki:\n",
    "\n",
    "- H₀ (Null Hipotez): μ = 14000 → Ana kütle ortalaması 14,000’dir.\n",
    "- H₁ (Alternatif Hipotez): μ ≠ 14000 → Ana kütle ortalaması 14,000’den farklıdır.\n",
    "\n",
    "Bu bir **iki yönlü (two-tailed) t-testi**'dir.\n",
    "\n",
    "---\n",
    "\n",
    "### 🧠 Kullanılan Test: Tek Örneklem t-Testi\n",
    "\n",
    "Tek örneklem t-testi, bir örneklem ortalamasının belirli bir değere (hipotezde belirtilen) eşit olup olmadığını test eder. Test istatistiği aşağıdaki formülle hesaplanır:\n",
    "\n",
    "$$t = \\frac{\\bar{x} - \\mu_0}{s / \\sqrt{n}}$$\n",
    "\n",
    "| Sembol | Açıklama |\n",
    "|--------|----------|\n",
    "| $\\bar{x}$ | Örneklem ortalaması |\n",
    "| $\\mu_0$ | Karşılaştırılan sabit değer (örnek: 14,000) |\n",
    "| $s$ | Örneklem standart sapması |\n",
    "| $n$ | Örneklem büyüklüğü |"
   ]
  },
  {
   "cell_type": "code",
   "execution_count": 15,
   "id": "7e51e12c",
   "metadata": {},
   "outputs": [
    {
     "name": "stdout",
     "output_type": "stream",
     "text": [
      "t-istatistiği: -2.2037\n",
      "p-değeri: 0.02771447275400366894\n"
     ]
    }
   ],
   "source": [
    "# Hipotez testi için sabit değer\n",
    "mu_0 = 14000\n",
    "charges = df['charges']\n",
    "\n",
    "# t-testi uygulama\n",
    "t_stat, p_value = stats.ttest_1samp(charges, popmean=mu_0)\n",
    "\n",
    "print(f\"t-istatistiği: {t_stat:.4f}\")\n",
    "print(f\"p-değeri: {p_value:.20f}\")\n",
    "\n",
    "# Açıklama: p < 0.05 ise H0 reddedilir, yani ortalama 14000 değildir."
   ]
  },
  {
   "cell_type": "code",
   "execution_count": 16,
   "id": "83b7c7ab",
   "metadata": {},
   "outputs": [
    {
     "data": {
      "text/plain": [
       "13270.422265141257"
      ]
     },
     "execution_count": 16,
     "metadata": {},
     "output_type": "execute_result"
    }
   ],
   "source": [
    "df[\"charges\"].mean()"
   ]
  },
  {
   "cell_type": "markdown",
   "id": "a149fbb2",
   "metadata": {},
   "source": [
    "Açıklama:\n",
    "- p < 0.05 olduğu için H₀ reddedilir.\n",
    "- Yani elimizdeki verilere göre, sağlık sigortası ücretlerinin ortalaması 14,000 TL'den istatistiksel olarak anlamlı biçimde farklıdır.\n",
    "- Sonuç olarak, veri setindeki charges değişkeni için varsayılan ortalama değer doğru kabul edilemez."
   ]
  },
  {
   "cell_type": "markdown",
   "id": "6ec63c9b",
   "metadata": {},
   "source": [
    "## 7. Bağımlı Değişkenin (charges) Ana Kütle Varyansı İçin Güven Aralığı\n",
    "\n",
    "Bu bölümde, sağlık sigortası maliyetlerinin (charges) varyansına ilişkin %95 güven aralığı hesaplanmıştır. Bu analiz, `charges` değişkeninin ne kadar değişkenlik gösterdiğini ana kütle düzeyinde tahmin etmemize yardımcı olur.\n",
    "\n",
    "---\n",
    "\n",
    "### 📌 İstatistiksel Arka Plan\n",
    "\n",
    "Ana kütle varyansı için güven aralığı aşağıdaki formülle hesaplanır. Bu hesaplamada, örnek varyans ve `ki-kare (χ²)` dağılımı kullanılır:\n",
    "\n",
    "---\n",
    "\n",
    "## Güven Aralığı Formülleri\n",
    "\n",
    "Varyans için güven aralığı aşağıdaki formülle hesaplanır:\n",
    "\n",
    "$$\\left( \\frac{(n-1)s^2}{\\chi^2_{\\alpha/2}}, \\frac{(n-1)s^2}{\\chi^2_{1-\\alpha/2}} \\right)$$\n",
    "\n",
    "### Sembollerin Anlamları\n",
    "\n",
    "| Sembol | Anlamı |\n",
    "|---|---|\n",
    "| $n$ | Örneklem büyüklüğü |\n",
    "| $s^2$ | Örneklem varyansı |\n",
    "| $\\chi^2$ | Ki-kare dağılımı kritik değerleri |"
   ]
  },
  {
   "cell_type": "code",
   "execution_count": 17,
   "id": "604caa7f",
   "metadata": {},
   "outputs": [
    {
     "name": "stdout",
     "output_type": "stream",
     "text": [
      "Varyans için %95 güven aralığı: (136140721.95, 158436617.10)\n"
     ]
    }
   ],
   "source": [
    "charges = df['charges']\n",
    "n = len(charges)\n",
    "alpha = 0.05  # %95 güven aralığı için\n",
    "\n",
    "sample_var = np.var(charges, ddof=1)\n",
    "\n",
    "# Ki-kare kritik değerleri\n",
    "chi2_lower = stats.chi2.ppf(alpha / 2, df=n - 1)\n",
    "chi2_upper = stats.chi2.ppf(1 - alpha / 2, df=n - 1)\n",
    "\n",
    "# Güven aralığı hesaplama\n",
    "lower_bound = (n - 1) * sample_var / chi2_upper\n",
    "upper_bound = (n - 1) * sample_var / chi2_lower\n",
    "\n",
    "print(f\"Varyans için %95 güven aralığı: ({lower_bound:.2f}, {upper_bound:.2f})\")"
   ]
  },
  {
   "cell_type": "markdown",
   "id": "79b6ab96",
   "metadata": {},
   "source": [
    "Açıklama:\n",
    "- Güven aralığı geniş olduğu için sigorta ücretlerinin değişkenliği oldukça fazladır.\n",
    "- Bu sonuç, modelleme sürecinde hata dağılımının yüksek olabileceğine işaret eder.\n",
    "- Ayrıca, varyansın ana kütlede sabit olmadığını (heteroskedastisite olasılığı) da göz önünde bulundurmak gerekir."
   ]
  },
  {
   "cell_type": "markdown",
   "id": "b556da69",
   "metadata": {},
   "source": [
    "## 8. Bağımlı Değişkenin (charges) Ana Kütle Varyansı İçin Hipotez Testi\n",
    "\n",
    "Bu bölümde, sağlık sigortası ücretlerinin (`charges`) varyansının belirli bir değere eşit olup olmadığı test edilmiştir.\n",
    "\n",
    "---\n",
    "\n",
    "### 🧮 Hipotezlerin Belirlenmesi\n",
    "\n",
    "Varsayalım ki, sigorta şirketi geçmiş yıllardaki analizlere göre varyansın \\( $\\sigma^2$ = 100,000,000 \\) (100 milyon) olduğunu düşünüyor. Bu durumda hipotezlerimiz şöyle olur:\n",
    "\n",
    "- **H₀ (Null Hipotez):** \\( $\\sigma^2$ = 100,000,000 \\) → Varyans 100 milyon\n",
    "- **H₁ (Alternatif Hipotez):** \\( $\\sigma^2$ $\\ne$ 100,000,000 \\) → Varyans 100 milyondan farklı\n",
    "\n",
    "Bu test **iki yönlü (two-tailed)** bir varyans testidir.\n",
    "\n",
    "---\n",
    "\n",
    "### 📌 Kullanılan Test: Ki-Kare ($\\chi^2$) Varyans Testi\n",
    "\n",
    "Test istatistiği şu formülle hesaplanır:\n",
    "\n",
    "$$\\chi^2 = \\frac{(n - 1) \\cdot s^2}{\\sigma_0^2}$$\n",
    "\n",
    "| Sembol | Açıklama |\n",
    "|---|---|\n",
    "| $n$ | Örneklem büyüklüğü |\n",
    "| $s^2$ | Örneklem varyansı |\n",
    "| $\\sigma_0^2$ | Varsayılan (hipotezdeki) varyans değeri |"
   ]
  },
  {
   "cell_type": "code",
   "execution_count": 49,
   "id": "9a068627",
   "metadata": {},
   "outputs": [
    {
     "name": "stdout",
     "output_type": "stream",
     "text": [
      "χ² istatistiği: 1960.7422\n",
      "p-değeri: 0.000000000000000\n"
     ]
    }
   ],
   "source": [
    "charges = df['charges']\n",
    "n = len(charges)\n",
    "sample_var = np.var(charges, ddof=1)\n",
    "hypothesized_var = 1e8  # 100,000,000\n",
    "\n",
    "# Ki-kare test istatistiği\n",
    "chi2_stat = (n - 1) * sample_var / hypothesized_var\n",
    "\n",
    "# p-değeri (iki yönlü test olduğu için çarpı 2)\n",
    "p_value = 2 * min(stats.chi2.cdf(chi2_stat, df=n - 1),1 - stats.chi2.cdf(chi2_stat, df=n - 1))\n",
    "\n",
    "print(f\"χ² istatistiği: {chi2_stat:.4f}\")\n",
    "print(f\"p-değeri: {p_value:.15f}\")"
   ]
  },
  {
   "cell_type": "markdown",
   "id": "09a4a5b8",
   "metadata": {},
   "source": [
    "Açıklama:\n",
    "- p < 0.05 olduğu için H₀ hipotezi reddedilir.\n",
    "- Bu durumda, sağlık sigortası ücretlerinin varyansı 100 milyon değildir, istatistiksel olarak anlamlı bir farklılık vardır.\n",
    "\n",
    "Bu test, charges değişkenindeki değişkenliğin varsayılan bir değerden sapıp sapmadığını test etmekte kullanılır. Sonuçlar, varyansın 100 milyon değerinden farklı olduğunu güçlü şekilde desteklemektedir. Bu da maliyetlerin oldukça değişken olduğunu ve sabit varsayımına dayalı modellere dikkat edilmesi gerektiğini gösterir."
   ]
  },
  {
   "cell_type": "markdown",
   "id": "d6f20102",
   "metadata": {},
   "source": [
    "# 9. Basit Regresyon Analizi\n",
    "\n",
    "Bu bölümde, sağlık sigortası maliyetlerini (`charges`) tahmin etmek amacıyla çoklu lineer regresyon modeli uygulanmıştır. Modelleme öncesinde bağımlı ve bağımsız değişkenlerin uygun formata getirilmesi için veri ön işleme adımları gerçekleştirilmiştir.\n",
    "\n",
    "### Regresyon Denklemi\n",
    "\n",
    "**y = β₀ + β₁ * x₁ + β₂ * x₂ + ... + ε**\n",
    "\n",
    "- **y** → Bağımlı değişken (tahmin etmek istediğimiz çıktı)\n",
    "- **x** → Bağımsız değişkenler (girdi verileri)\n",
    "- **β** → Bağımsız değişkenlerin katsayıları (etki oranı)\n",
    "- **β₀** → Sabit terim (intercept) veya başlangıç değeri. Bağımsız değişkenlerin tümü sıfır olduğunda, y'nin alacağı değeri temsil eder.\n",
    "- **ε** → Hata payı (modelin tahmin edemediği kısım)\n",
    "\n",
    "### MSE (Ortalama Karesel Hata)\n",
    "\n",
    "**$$MSE = \\frac{1}{n} \\sum_{i=1}^{n} (Y_i - \\hat{Y}_i)^2$$**\n",
    "\n",
    "* $n$ = veri noktalarının sayısı\n",
    "* $Y_i$ = gözlemlenen değerler\n",
    "* $\\hat{Y}_i$ = tahmini değerler\n",
    "\n",
    "### MAE (Ortalama Mutlak Hata)\n",
    "\n",
    "**$$MAE = \\frac{\\sum_{i=1}^{n} |y_i - x_i|}{n}$$**\n",
    "\n",
    "* $y_i$ = tahmin\n",
    "* $x_i$ = doğru değer\n",
    "* $n$ = toplam veri noktası sayısı\n",
    "\n",
    "### $R^2$ (Belirlilik Katsayısı)\n",
    "\n",
    "**$$R^2 = 1 - \\frac{SS_{hata}}{SS_{toplam}}$$**\n",
    "\n",
    "* **$SS_{hata}$ (Residual sum of squares):** Modelin tahmin ettiği değerler ile gerçek değerler arasındaki farkların karelerinin toplamı.\n",
    "* **$SS_{toplam}$ (Total sum of squares):** Gerçek değerlerin, ortalama gerçek değer etrafındaki toplam farklarının kareleri."
   ]
  },
  {
   "cell_type": "code",
   "execution_count": 19,
   "id": "04ed1232",
   "metadata": {},
   "outputs": [],
   "source": [
    "# Yes ve No olduğu için binary hale getirdik\n",
    "lb = LabelEncoder()\n",
    "df['smoker'] = lb.fit_transform(df['smoker']) # yes → 1, no → 0\n",
    "df[\"sex\"] = lb.fit_transform(df[\"sex\"]) # male → 1, female → 0"
   ]
  },
  {
   "cell_type": "code",
   "execution_count": 20,
   "id": "e2ed7612",
   "metadata": {},
   "outputs": [],
   "source": [
    "# Kategorik Verileri Encode Etme (one-hot encoding)\n",
    "df = pd.get_dummies(df,columns=[\"region\"],drop_first=True) "
   ]
  },
  {
   "cell_type": "code",
   "execution_count": 21,
   "id": "8c2b8551",
   "metadata": {},
   "outputs": [],
   "source": [
    "# Sayısal Verileri Ölçekleme\n",
    "scaler = StandardScaler()\n",
    "df[[\"age\",\"bmi\"]] = scaler.fit_transform(df[[\"age\",\"bmi\"]])"
   ]
  },
  {
   "cell_type": "code",
   "execution_count": 22,
   "id": "0344417b",
   "metadata": {},
   "outputs": [
    {
     "data": {
      "application/vnd.microsoft.datawrangler.viewer.v0+json": {
       "columns": [
        {
         "name": "index",
         "rawType": "int64",
         "type": "integer"
        },
        {
         "name": "age",
         "rawType": "float64",
         "type": "float"
        },
        {
         "name": "sex",
         "rawType": "int32",
         "type": "integer"
        },
        {
         "name": "bmi",
         "rawType": "float64",
         "type": "float"
        },
        {
         "name": "children",
         "rawType": "int64",
         "type": "integer"
        },
        {
         "name": "smoker",
         "rawType": "int32",
         "type": "integer"
        },
        {
         "name": "charges",
         "rawType": "float64",
         "type": "float"
        },
        {
         "name": "region_northwest",
         "rawType": "bool",
         "type": "boolean"
        },
        {
         "name": "region_southeast",
         "rawType": "bool",
         "type": "boolean"
        },
        {
         "name": "region_southwest",
         "rawType": "bool",
         "type": "boolean"
        }
       ],
       "ref": "cd7d9da4-6b26-4541-ac4b-404f1de737a3",
       "rows": [
        [
         "0",
         "-1.4387642602644821",
         "0",
         "-0.45332000146019785",
         "0",
         "1",
         "16884.924",
         "False",
         "False",
         "True"
        ],
        [
         "1",
         "-1.5099654504939408",
         "1",
         "0.5096210969173165",
         "1",
         "0",
         "1725.5523",
         "False",
         "True",
         "False"
        ],
        [
         "2",
         "-0.7979535481993532",
         "1",
         "0.38330684721532526",
         "3",
         "0",
         "4449.462",
         "False",
         "True",
         "False"
        ],
        [
         "3",
         "-0.44194759705205927",
         "1",
         "-1.305531075748304",
         "0",
         "0",
         "21984.47061",
         "True",
         "False",
         "False"
        ],
        [
         "4",
         "-0.513148787281518",
         "1",
         "-0.2925564109303915",
         "0",
         "0",
         "3866.8552",
         "True",
         "False",
         "False"
        ]
       ],
       "shape": {
        "columns": 9,
        "rows": 5
       }
      },
      "text/html": [
       "<div>\n",
       "<style scoped>\n",
       "    .dataframe tbody tr th:only-of-type {\n",
       "        vertical-align: middle;\n",
       "    }\n",
       "\n",
       "    .dataframe tbody tr th {\n",
       "        vertical-align: top;\n",
       "    }\n",
       "\n",
       "    .dataframe thead th {\n",
       "        text-align: right;\n",
       "    }\n",
       "</style>\n",
       "<table border=\"1\" class=\"dataframe\">\n",
       "  <thead>\n",
       "    <tr style=\"text-align: right;\">\n",
       "      <th></th>\n",
       "      <th>age</th>\n",
       "      <th>sex</th>\n",
       "      <th>bmi</th>\n",
       "      <th>children</th>\n",
       "      <th>smoker</th>\n",
       "      <th>charges</th>\n",
       "      <th>region_northwest</th>\n",
       "      <th>region_southeast</th>\n",
       "      <th>region_southwest</th>\n",
       "    </tr>\n",
       "  </thead>\n",
       "  <tbody>\n",
       "    <tr>\n",
       "      <th>0</th>\n",
       "      <td>-1.438764</td>\n",
       "      <td>0</td>\n",
       "      <td>-0.453320</td>\n",
       "      <td>0</td>\n",
       "      <td>1</td>\n",
       "      <td>16884.92400</td>\n",
       "      <td>False</td>\n",
       "      <td>False</td>\n",
       "      <td>True</td>\n",
       "    </tr>\n",
       "    <tr>\n",
       "      <th>1</th>\n",
       "      <td>-1.509965</td>\n",
       "      <td>1</td>\n",
       "      <td>0.509621</td>\n",
       "      <td>1</td>\n",
       "      <td>0</td>\n",
       "      <td>1725.55230</td>\n",
       "      <td>False</td>\n",
       "      <td>True</td>\n",
       "      <td>False</td>\n",
       "    </tr>\n",
       "    <tr>\n",
       "      <th>2</th>\n",
       "      <td>-0.797954</td>\n",
       "      <td>1</td>\n",
       "      <td>0.383307</td>\n",
       "      <td>3</td>\n",
       "      <td>0</td>\n",
       "      <td>4449.46200</td>\n",
       "      <td>False</td>\n",
       "      <td>True</td>\n",
       "      <td>False</td>\n",
       "    </tr>\n",
       "    <tr>\n",
       "      <th>3</th>\n",
       "      <td>-0.441948</td>\n",
       "      <td>1</td>\n",
       "      <td>-1.305531</td>\n",
       "      <td>0</td>\n",
       "      <td>0</td>\n",
       "      <td>21984.47061</td>\n",
       "      <td>True</td>\n",
       "      <td>False</td>\n",
       "      <td>False</td>\n",
       "    </tr>\n",
       "    <tr>\n",
       "      <th>4</th>\n",
       "      <td>-0.513149</td>\n",
       "      <td>1</td>\n",
       "      <td>-0.292556</td>\n",
       "      <td>0</td>\n",
       "      <td>0</td>\n",
       "      <td>3866.85520</td>\n",
       "      <td>True</td>\n",
       "      <td>False</td>\n",
       "      <td>False</td>\n",
       "    </tr>\n",
       "  </tbody>\n",
       "</table>\n",
       "</div>"
      ],
      "text/plain": [
       "        age  sex       bmi  children  smoker      charges  region_northwest  \\\n",
       "0 -1.438764    0 -0.453320         0       1  16884.92400             False   \n",
       "1 -1.509965    1  0.509621         1       0   1725.55230             False   \n",
       "2 -0.797954    1  0.383307         3       0   4449.46200             False   \n",
       "3 -0.441948    1 -1.305531         0       0  21984.47061              True   \n",
       "4 -0.513149    1 -0.292556         0       0   3866.85520              True   \n",
       "\n",
       "   region_southeast  region_southwest  \n",
       "0             False              True  \n",
       "1              True             False  \n",
       "2              True             False  \n",
       "3             False             False  \n",
       "4             False             False  "
      ]
     },
     "execution_count": 22,
     "metadata": {},
     "output_type": "execute_result"
    }
   ],
   "source": [
    "df.head() # Bütün işlemleri yaptıktan sonra veri setimizi kontrol ediyoruz"
   ]
  },
  {
   "cell_type": "code",
   "execution_count": 23,
   "id": "58381b3a",
   "metadata": {},
   "outputs": [],
   "source": [
    "X = df.drop(columns=[\"charges\"]) # Bağımsız değişkenler\n",
    "y = df['charges'] # Bağımlı değişken"
   ]
  },
  {
   "cell_type": "code",
   "execution_count": 24,
   "id": "b2c2dc3c",
   "metadata": {},
   "outputs": [
    {
     "name": "stdout",
     "output_type": "stream",
     "text": [
      "(1338, 8)\n",
      "(1338,)\n"
     ]
    }
   ],
   "source": [
    "# Boyutlarını kontrol ediyoruz\n",
    "print(X.shape)\n",
    "print(y.shape)"
   ]
  },
  {
   "cell_type": "code",
   "execution_count": 25,
   "id": "378f12f9",
   "metadata": {},
   "outputs": [],
   "source": [
    "X_train, X_test, y_train, y_test = train_test_split(X, y,test_size=0.2, random_state=42)"
   ]
  },
  {
   "cell_type": "code",
   "execution_count": 26,
   "id": "24b4ab7e",
   "metadata": {},
   "outputs": [
    {
     "name": "stdout",
     "output_type": "stream",
     "text": [
      "(268, 8)\n",
      "(268,)\n",
      "(1070, 8)\n",
      "(1070,)\n"
     ]
    }
   ],
   "source": [
    "# Boyutlarını kontrol ediyoruz\n",
    "print(X_test.shape)\n",
    "print(y_test.shape)\n",
    "print(X_train.shape)\n",
    "print(y_train.shape)"
   ]
  },
  {
   "cell_type": "code",
   "execution_count": 27,
   "id": "d5de3466",
   "metadata": {},
   "outputs": [],
   "source": [
    "# Modeli Eğitme\n",
    "lr = LinearRegression()\n",
    "model = lr.fit(X_train, y_train)"
   ]
  },
  {
   "cell_type": "code",
   "execution_count": 28,
   "id": "8960dfc3",
   "metadata": {},
   "outputs": [],
   "source": [
    "# Test Verisinde Tahmin Yapma\n",
    "y_pred = model.predict(X_test)"
   ]
  },
  {
   "cell_type": "code",
   "execution_count": 50,
   "id": "e2c34979",
   "metadata": {},
   "outputs": [
    {
     "data": {
      "text/plain": [
       "array([1233.5170305])"
      ]
     },
     "execution_count": 50,
     "metadata": {},
     "output_type": "execute_result"
    }
   ],
   "source": [
    "# Kendi değerlerim ile test\n",
    "kullanici = pd.DataFrame([{\n",
    "    \"age\": 21,\n",
    "    \"sex\": 1,\n",
    "    \"bmi\": 23.1,\n",
    "    \"children\": 0,\n",
    "    \"smoker\": 0,\n",
    "    \"region_northwest\": 0,\n",
    "    \"region_southeast\": 0,\n",
    "    \"region_southwest\": 0\n",
    "}])\n",
    "\n",
    "kullanici[[\"age\",\"bmi\"]] = scaler.transform(kullanici[[\"age\",\"bmi\"]]) # ölçeklendiriyoruz\n",
    "model.predict(kullanici)"
   ]
  },
  {
   "cell_type": "code",
   "execution_count": 30,
   "id": "887be45f",
   "metadata": {},
   "outputs": [
    {
     "name": "stdout",
     "output_type": "stream",
     "text": [
      "Regresyon Denklem Katsayıları;\n",
      "age: 3609.15\n",
      "sex: -18.59\n",
      "bmi: 2054.89\n",
      "children: 425.28\n",
      "smoker: 23651.13\n",
      "region_northwest: -370.68\n",
      "region_southeast: -657.86\n",
      "region_southwest: -809.80\n",
      "\n",
      "Intercept (β₀): 8480.44\n",
      "\n",
      "Y = 8480.44 + 3609.15*age + -18.59*sex + 2054.89*bmi + 425.28*children + 23651.13*smoker + -370.68*region_northwest + -657.86*region_southeast + -809.80*region_southwest\n"
     ]
    }
   ],
   "source": [
    "coefficients = model.coef_ # Katsayılar\n",
    "intercept = model.intercept_ # Sabit Terim\n",
    "\n",
    "print(\"Regresyon Denklem Katsayıları;\")\n",
    "for feature, coef in zip(X.columns, coefficients):\n",
    "    print(f\"{feature}: {coef:.2f}\")\n",
    "\n",
    "print(f\"\\nIntercept (β₀): {intercept:.2f}\")\n",
    "print(f\"\\nY = {intercept:.2f} + \" + \" + \".join([f\"{coef:.2f}*{name}\" for coef, name in zip(coefficients, X.columns)]))"
   ]
  },
  {
   "cell_type": "code",
   "execution_count": 32,
   "id": "3bcc3f19",
   "metadata": {},
   "outputs": [
    {
     "data": {
      "image/png": "[encoded data removed]",
      "text/plain": [
       "<Figure size 640x480 with 1 Axes>"
      ]
     },
     "metadata": {},
     "output_type": "display_data"
    }
   ],
   "source": [
    "importance_df = pd.Series(coefficients,index=X.columns).sort_values(ascending=True)\n",
    "importance_df.plot(kind='barh',color=\"blue\")\n",
    "plt.title(f\"Önemli Özellikler Sıralaması\")\n",
    "plt.xlabel(\"Önem\")\n",
    "plt.axvline(x=0, color='red', linestyle='-', linewidth=2) # Çizgi\n",
    "plt.show()"
   ]
  },
  {
   "cell_type": "code",
   "execution_count": 33,
   "id": "a3d01c2c",
   "metadata": {},
   "outputs": [
    {
     "name": "stdout",
     "output_type": "stream",
     "text": [
      "Gerçek Değer: [13470.86]\n",
      "Tahmin: [16405.50339342]\n"
     ]
    }
   ],
   "source": [
    "ornek_veri = df.sample() # veri setinden rastgele veri\n",
    "ornek_veri_tahmin = model.predict(ornek_veri.drop(columns=[\"charges\"]))\n",
    "print(f\"Gerçek Değer: {ornek_veri[\"charges\"].values}\\nTahmin: {ornek_veri_tahmin}\")"
   ]
  },
  {
   "cell_type": "code",
   "execution_count": 34,
   "id": "2ad0fdae",
   "metadata": {},
   "outputs": [
    {
     "data": {
      "image/png": "[encoded data removed]",
      "text/plain": [
       "<Figure size 640x480 with 1 Axes>"
      ]
     },
     "metadata": {},
     "output_type": "display_data"
    }
   ],
   "source": [
    "# Teorik değerler (Fitted Values) ve scatter plot\n",
    "plt.scatter(y_test, y_pred, alpha=0.5)\n",
    "plt.plot([y_test.min(), y_test.max()], [y_test.min(), y_test.max()], color=\"red\", lw=2)\n",
    "plt.xlabel(\"Gerçek Değerler\")\n",
    "plt.ylabel(\"Tahmin Edilen Değerler\")\n",
    "plt.title(\"Gerçek vs Tahmin Edilen Charges Değerleri\")\n",
    "plt.show()"
   ]
  },
  {
   "cell_type": "code",
   "execution_count": 35,
   "id": "9ca0c5ea",
   "metadata": {},
   "outputs": [
    {
     "data": {
      "application/vnd.microsoft.datawrangler.viewer.v0+json": {
       "columns": [
        {
         "name": "index",
         "rawType": "int64",
         "type": "integer"
        },
        {
         "name": "y_test",
         "rawType": "float64",
         "type": "float"
        },
        {
         "name": "y_tahmin",
         "rawType": "float64",
         "type": "float"
        }
       ],
       "ref": "c3d9da81-18f4-4b07-b976-0d0043d69f7b",
       "rows": [
        [
         "764",
         "9095.06825",
         "8969.55027443615"
        ],
        [
         "887",
         "5272.1758",
         "7068.747442870881"
        ],
        [
         "890",
         "29330.98315",
         "36858.41091154613"
        ],
        [
         "1293",
         "9301.89355",
         "9454.67850053361"
        ],
        [
         "259",
         "33750.2918",
         "26973.173456563487"
        ],
        [
         "1312",
         "4536.259",
         "10864.113164237358"
        ],
        [
         "899",
         "2117.33885",
         "170.28084136499092"
        ],
        [
         "752",
         "14210.53595",
         "16903.450286619423"
        ],
        [
         "1286",
         "3732.6251",
         "1092.4309361411624"
        ],
        [
         "707",
         "10264.4421",
         "11218.343183516348"
        ],
        [
         "780",
         "18259.216",
         "28101.684552669965"
        ],
        [
         "567",
         "7256.7231",
         "9377.734602045197"
        ],
        [
         "76",
         "3947.4131",
         "5263.059517901978"
        ],
        [
         "265",
         "46151.1245",
         "38416.042211067484"
        ],
        [
         "901",
         "48673.5588",
         "40255.82339284461"
        ],
        [
         "893",
         "44202.6536",
         "37098.253531229064"
        ],
        [
         "650",
         "9800.8882",
         "15240.393923059662"
        ],
        [
         "615",
         "42969.8527",
         "35912.88264434412"
        ],
        [
         "538",
         "8233.0975",
         "9112.523987031156"
        ],
        [
         "916",
         "21774.32215",
         "31461.921089091058"
        ],
        [
         "413",
         "5080.096",
         "3847.6884588269204"
        ],
        [
         "598",
         "7441.501",
         "10130.120015169958"
        ],
        [
         "513",
         "1256.299",
         "2370.5418938854227"
        ],
        [
         "78",
         "2755.02095",
         "7140.21550828077"
        ],
        [
         "1135",
         "11085.5868",
         "11301.767826377756"
        ],
        [
         "561",
         "10923.9332",
         "12961.653662243927"
        ],
        [
         "904",
         "12644.589",
         "14509.472518764665"
        ],
        [
         "429",
         "18804.7524",
         "6159.8976107035105"
        ],
        [
         "275",
         "9715.841",
         "9963.858572625548"
        ],
        [
         "808",
         "1131.5066",
         "2177.857182165373"
        ],
        [
         "1253",
         "15828.82173",
         "9115.936734934981"
        ],
        [
         "765",
         "11842.62375",
         "13073.689321593502"
        ],
        [
         "700",
         "2020.5523",
         "4561.823762017701"
        ],
        [
         "1119",
         "5693.4305",
         "3408.2075603323465"
        ],
        [
         "1108",
         "2904.088",
         "4459.81359744855"
        ],
        [
         "777",
         "7448.40395",
         "13032.065050757215"
        ],
        [
         "363",
         "2597.779",
         "1979.9935729179924"
        ],
        [
         "1263",
         "7337.748",
         "8813.28303302499"
        ],
        [
         "1176",
         "23887.6627",
         "33271.291244477194"
        ],
        [
         "49",
         "38709.176",
         "32585.515839273216"
        ],
        [
         "32",
         "4687.797",
         "3908.76090964004"
        ],
        [
         "506",
         "2643.2685",
         "4326.107747209302"
        ],
        [
         "945",
         "11674.13",
         "14142.813265328312"
        ],
        [
         "1015",
         "12124.9924",
         "11423.45494846089"
        ],
        [
         "346",
         "4889.9995",
         "8774.139553114497"
        ],
        [
         "233",
         "12333.828",
         "12097.280510006007"
        ],
        [
         "51",
         "3579.8287",
         "5281.573534986625"
        ],
        [
         "869",
         "4391.652",
         "3150.559604198893"
        ],
        [
         "312",
         "42124.5153",
         "35494.4646121407"
        ],
        [
         "237",
         "4463.2051",
         "9150.112478596888"
        ]
       ],
       "shape": {
        "columns": 2,
        "rows": 268
       }
      },
      "text/html": [
       "<div>\n",
       "<style scoped>\n",
       "    .dataframe tbody tr th:only-of-type {\n",
       "        vertical-align: middle;\n",
       "    }\n",
       "\n",
       "    .dataframe tbody tr th {\n",
       "        vertical-align: top;\n",
       "    }\n",
       "\n",
       "    .dataframe thead th {\n",
       "        text-align: right;\n",
       "    }\n",
       "</style>\n",
       "<table border=\"1\" class=\"dataframe\">\n",
       "  <thead>\n",
       "    <tr style=\"text-align: right;\">\n",
       "      <th></th>\n",
       "      <th>y_test</th>\n",
       "      <th>y_tahmin</th>\n",
       "    </tr>\n",
       "  </thead>\n",
       "  <tbody>\n",
       "    <tr>\n",
       "      <th>764</th>\n",
       "      <td>9095.06825</td>\n",
       "      <td>8969.550274</td>\n",
       "    </tr>\n",
       "    <tr>\n",
       "      <th>887</th>\n",
       "      <td>5272.17580</td>\n",
       "      <td>7068.747443</td>\n",
       "    </tr>\n",
       "    <tr>\n",
       "      <th>890</th>\n",
       "      <td>29330.98315</td>\n",
       "      <td>36858.410912</td>\n",
       "    </tr>\n",
       "    <tr>\n",
       "      <th>1293</th>\n",
       "      <td>9301.89355</td>\n",
       "      <td>9454.678501</td>\n",
       "    </tr>\n",
       "    <tr>\n",
       "      <th>259</th>\n",
       "      <td>33750.29180</td>\n",
       "      <td>26973.173457</td>\n",
       "    </tr>\n",
       "    <tr>\n",
       "      <th>...</th>\n",
       "      <td>...</td>\n",
       "      <td>...</td>\n",
       "    </tr>\n",
       "    <tr>\n",
       "      <th>109</th>\n",
       "      <td>47055.53210</td>\n",
       "      <td>39061.500932</td>\n",
       "    </tr>\n",
       "    <tr>\n",
       "      <th>575</th>\n",
       "      <td>12222.89830</td>\n",
       "      <td>11761.499198</td>\n",
       "    </tr>\n",
       "    <tr>\n",
       "      <th>535</th>\n",
       "      <td>6067.12675</td>\n",
       "      <td>7687.563632</td>\n",
       "    </tr>\n",
       "    <tr>\n",
       "      <th>543</th>\n",
       "      <td>63770.42801</td>\n",
       "      <td>40920.291512</td>\n",
       "    </tr>\n",
       "    <tr>\n",
       "      <th>846</th>\n",
       "      <td>9872.70100</td>\n",
       "      <td>12318.586653</td>\n",
       "    </tr>\n",
       "  </tbody>\n",
       "</table>\n",
       "<p>268 rows × 2 columns</p>\n",
       "</div>"
      ],
      "text/plain": [
       "           y_test      y_tahmin\n",
       "764    9095.06825   8969.550274\n",
       "887    5272.17580   7068.747443\n",
       "890   29330.98315  36858.410912\n",
       "1293   9301.89355   9454.678501\n",
       "259   33750.29180  26973.173457\n",
       "...           ...           ...\n",
       "109   47055.53210  39061.500932\n",
       "575   12222.89830  11761.499198\n",
       "535    6067.12675   7687.563632\n",
       "543   63770.42801  40920.291512\n",
       "846    9872.70100  12318.586653\n",
       "\n",
       "[268 rows x 2 columns]"
      ]
     },
     "execution_count": 35,
     "metadata": {},
     "output_type": "execute_result"
    }
   ],
   "source": [
    "hata_df=pd.DataFrame()\n",
    "hata_df[\"y_test\"]=y_test\n",
    "hata_df[\"y_tahmin\"]=y_pred\n",
    "hata_df"
   ]
  },
  {
   "cell_type": "code",
   "execution_count": 36,
   "id": "dbed3bef",
   "metadata": {},
   "outputs": [
    {
     "data": {
      "application/vnd.microsoft.datawrangler.viewer.v0+json": {
       "columns": [
        {
         "name": "index",
         "rawType": "int64",
         "type": "integer"
        },
        {
         "name": "y_test",
         "rawType": "float64",
         "type": "float"
        },
        {
         "name": "y_tahmin",
         "rawType": "float64",
         "type": "float"
        },
        {
         "name": "hata",
         "rawType": "float64",
         "type": "float"
        }
       ],
       "ref": "e6a5f99c-4e42-4f2e-9204-4bd2981cdcff",
       "rows": [
        [
         "764",
         "9095.06825",
         "8969.55027443615",
         "125.517975563851"
        ],
        [
         "887",
         "5272.1758",
         "7068.747442870881",
         "-1796.571642870881"
        ],
        [
         "890",
         "29330.98315",
         "36858.41091154613",
         "-7527.427761546132"
        ],
        [
         "1293",
         "9301.89355",
         "9454.67850053361",
         "-152.78495053360894"
        ],
        [
         "259",
         "33750.2918",
         "26973.173456563487",
         "6777.118343436512"
        ],
        [
         "1312",
         "4536.259",
         "10864.113164237358",
         "-6327.854164237358"
        ],
        [
         "899",
         "2117.33885",
         "170.28084136499092",
         "1947.0580086350092"
        ],
        [
         "752",
         "14210.53595",
         "16903.450286619423",
         "-2692.914336619424"
        ],
        [
         "1286",
         "3732.6251",
         "1092.4309361411624",
         "2640.194163858838"
        ],
        [
         "707",
         "10264.4421",
         "11218.343183516348",
         "-953.9010835163481"
        ],
        [
         "780",
         "18259.216",
         "28101.684552669965",
         "-9842.468552669965"
        ],
        [
         "567",
         "7256.7231",
         "9377.734602045197",
         "-2121.0115020451967"
        ],
        [
         "76",
         "3947.4131",
         "5263.059517901978",
         "-1315.646417901978"
        ],
        [
         "265",
         "46151.1245",
         "38416.042211067484",
         "7735.082288932514"
        ],
        [
         "901",
         "48673.5588",
         "40255.82339284461",
         "8417.735407155385"
        ],
        [
         "893",
         "44202.6536",
         "37098.253531229064",
         "7104.400068770934"
        ],
        [
         "650",
         "9800.8882",
         "15240.393923059662",
         "-5439.505723059663"
        ],
        [
         "615",
         "42969.8527",
         "35912.88264434412",
         "7056.970055655882"
        ],
        [
         "538",
         "8233.0975",
         "9112.523987031156",
         "-879.4264870311563"
        ],
        [
         "916",
         "21774.32215",
         "31461.921089091058",
         "-9687.598939091058"
        ],
        [
         "413",
         "5080.096",
         "3847.6884588269204",
         "1232.4075411730792"
        ],
        [
         "598",
         "7441.501",
         "10130.120015169958",
         "-2688.6190151699575"
        ],
        [
         "513",
         "1256.299",
         "2370.5418938854227",
         "-1114.2428938854227"
        ],
        [
         "78",
         "2755.02095",
         "7140.21550828077",
         "-4385.19455828077"
        ],
        [
         "1135",
         "11085.5868",
         "11301.767826377756",
         "-216.181026377757"
        ],
        [
         "561",
         "10923.9332",
         "12961.653662243927",
         "-2037.7204622439276"
        ],
        [
         "904",
         "12644.589",
         "14509.472518764665",
         "-1864.8835187646655"
        ],
        [
         "429",
         "18804.7524",
         "6159.8976107035105",
         "12644.85478929649"
        ],
        [
         "275",
         "9715.841",
         "9963.858572625548",
         "-248.01757262554747"
        ],
        [
         "808",
         "1131.5066",
         "2177.857182165373",
         "-1046.3505821653732"
        ],
        [
         "1253",
         "15828.82173",
         "9115.936734934981",
         "6712.884995065018"
        ],
        [
         "765",
         "11842.62375",
         "13073.689321593502",
         "-1231.0655715935009"
        ],
        [
         "700",
         "2020.5523",
         "4561.823762017701",
         "-2541.2714620177003"
        ],
        [
         "1119",
         "5693.4305",
         "3408.2075603323465",
         "2285.222939667654"
        ],
        [
         "1108",
         "2904.088",
         "4459.81359744855",
         "-1555.7255974485502"
        ],
        [
         "777",
         "7448.40395",
         "13032.065050757215",
         "-5583.6611007572155"
        ],
        [
         "363",
         "2597.779",
         "1979.9935729179924",
         "617.7854270820076"
        ],
        [
         "1263",
         "7337.748",
         "8813.28303302499",
         "-1475.5350330249912"
        ],
        [
         "1176",
         "23887.6627",
         "33271.291244477194",
         "-9383.628544477193"
        ],
        [
         "49",
         "38709.176",
         "32585.515839273216",
         "6123.660160726784"
        ],
        [
         "32",
         "4687.797",
         "3908.76090964004",
         "779.0360903599594"
        ],
        [
         "506",
         "2643.2685",
         "4326.107747209302",
         "-1682.839247209302"
        ],
        [
         "945",
         "11674.13",
         "14142.813265328312",
         "-2468.6832653283127"
        ],
        [
         "1015",
         "12124.9924",
         "11423.45494846089",
         "701.5374515391086"
        ],
        [
         "346",
         "4889.9995",
         "8774.139553114497",
         "-3884.1400531144973"
        ],
        [
         "233",
         "12333.828",
         "12097.280510006007",
         "236.5474899939927"
        ],
        [
         "51",
         "3579.8287",
         "5281.573534986625",
         "-1701.7448349866254"
        ],
        [
         "869",
         "4391.652",
         "3150.559604198893",
         "1241.0923958011072"
        ],
        [
         "312",
         "42124.5153",
         "35494.4646121407",
         "6630.0506878593005"
        ],
        [
         "237",
         "4463.2051",
         "9150.112478596888",
         "-4686.907378596888"
        ]
       ],
       "shape": {
        "columns": 3,
        "rows": 268
       }
      },
      "text/html": [
       "<div>\n",
       "<style scoped>\n",
       "    .dataframe tbody tr th:only-of-type {\n",
       "        vertical-align: middle;\n",
       "    }\n",
       "\n",
       "    .dataframe tbody tr th {\n",
       "        vertical-align: top;\n",
       "    }\n",
       "\n",
       "    .dataframe thead th {\n",
       "        text-align: right;\n",
       "    }\n",
       "</style>\n",
       "<table border=\"1\" class=\"dataframe\">\n",
       "  <thead>\n",
       "    <tr style=\"text-align: right;\">\n",
       "      <th></th>\n",
       "      <th>y_test</th>\n",
       "      <th>y_tahmin</th>\n",
       "      <th>hata</th>\n",
       "    </tr>\n",
       "  </thead>\n",
       "  <tbody>\n",
       "    <tr>\n",
       "      <th>764</th>\n",
       "      <td>9095.06825</td>\n",
       "      <td>8969.550274</td>\n",
       "      <td>125.517976</td>\n",
       "    </tr>\n",
       "    <tr>\n",
       "      <th>887</th>\n",
       "      <td>5272.17580</td>\n",
       "      <td>7068.747443</td>\n",
       "      <td>-1796.571643</td>\n",
       "    </tr>\n",
       "    <tr>\n",
       "      <th>890</th>\n",
       "      <td>29330.98315</td>\n",
       "      <td>36858.410912</td>\n",
       "      <td>-7527.427762</td>\n",
       "    </tr>\n",
       "    <tr>\n",
       "      <th>1293</th>\n",
       "      <td>9301.89355</td>\n",
       "      <td>9454.678501</td>\n",
       "      <td>-152.784951</td>\n",
       "    </tr>\n",
       "    <tr>\n",
       "      <th>259</th>\n",
       "      <td>33750.29180</td>\n",
       "      <td>26973.173457</td>\n",
       "      <td>6777.118343</td>\n",
       "    </tr>\n",
       "    <tr>\n",
       "      <th>...</th>\n",
       "      <td>...</td>\n",
       "      <td>...</td>\n",
       "      <td>...</td>\n",
       "    </tr>\n",
       "    <tr>\n",
       "      <th>109</th>\n",
       "      <td>47055.53210</td>\n",
       "      <td>39061.500932</td>\n",
       "      <td>7994.031168</td>\n",
       "    </tr>\n",
       "    <tr>\n",
       "      <th>575</th>\n",
       "      <td>12222.89830</td>\n",
       "      <td>11761.499198</td>\n",
       "      <td>461.399102</td>\n",
       "    </tr>\n",
       "    <tr>\n",
       "      <th>535</th>\n",
       "      <td>6067.12675</td>\n",
       "      <td>7687.563632</td>\n",
       "      <td>-1620.436882</td>\n",
       "    </tr>\n",
       "    <tr>\n",
       "      <th>543</th>\n",
       "      <td>63770.42801</td>\n",
       "      <td>40920.291512</td>\n",
       "      <td>22850.136498</td>\n",
       "    </tr>\n",
       "    <tr>\n",
       "      <th>846</th>\n",
       "      <td>9872.70100</td>\n",
       "      <td>12318.586653</td>\n",
       "      <td>-2445.885653</td>\n",
       "    </tr>\n",
       "  </tbody>\n",
       "</table>\n",
       "<p>268 rows × 3 columns</p>\n",
       "</div>"
      ],
      "text/plain": [
       "           y_test      y_tahmin          hata\n",
       "764    9095.06825   8969.550274    125.517976\n",
       "887    5272.17580   7068.747443  -1796.571643\n",
       "890   29330.98315  36858.410912  -7527.427762\n",
       "1293   9301.89355   9454.678501   -152.784951\n",
       "259   33750.29180  26973.173457   6777.118343\n",
       "...           ...           ...           ...\n",
       "109   47055.53210  39061.500932   7994.031168\n",
       "575   12222.89830  11761.499198    461.399102\n",
       "535    6067.12675   7687.563632  -1620.436882\n",
       "543   63770.42801  40920.291512  22850.136498\n",
       "846    9872.70100  12318.586653  -2445.885653\n",
       "\n",
       "[268 rows x 3 columns]"
      ]
     },
     "execution_count": 36,
     "metadata": {},
     "output_type": "execute_result"
    }
   ],
   "source": [
    "hata_df[\"hata\"] = y_test-y_pred\n",
    "hata_df"
   ]
  },
  {
   "cell_type": "code",
   "execution_count": null,
   "id": "fa8b4954",
   "metadata": {},
   "outputs": [
    {
     "data": {
      "application/vnd.microsoft.datawrangler.viewer.v0+json": {
       "columns": [
        {
         "name": "index",
         "rawType": "int64",
         "type": "integer"
        },
        {
         "name": "y_test",
         "rawType": "float64",
         "type": "float"
        },
        {
         "name": "y_tahmin",
         "rawType": "float64",
         "type": "float"
        },
        {
         "name": "hata",
         "rawType": "float64",
         "type": "float"
        },
        {
         "name": "mutlak_hata",
         "rawType": "float64",
         "type": "float"
        }
       ],
       "ref": "f4d64b61-b064-441a-a19c-bfb74dc80ac0",
       "rows": [
        [
         "764",
         "9095.06825",
         "8969.55027443615",
         "125.517975563851",
         "125.517975563851"
        ],
        [
         "887",
         "5272.1758",
         "7068.747442870881",
         "-1796.571642870881",
         "1796.571642870881"
        ],
        [
         "890",
         "29330.98315",
         "36858.41091154613",
         "-7527.427761546132",
         "7527.427761546132"
        ],
        [
         "1293",
         "9301.89355",
         "9454.67850053361",
         "-152.78495053360894",
         "152.78495053360894"
        ],
        [
         "259",
         "33750.2918",
         "26973.173456563487",
         "6777.118343436512",
         "6777.118343436512"
        ],
        [
         "1312",
         "4536.259",
         "10864.113164237358",
         "-6327.854164237358",
         "6327.854164237358"
        ],
        [
         "899",
         "2117.33885",
         "170.28084136499092",
         "1947.0580086350092",
         "1947.0580086350092"
        ],
        [
         "752",
         "14210.53595",
         "16903.450286619423",
         "-2692.914336619424",
         "2692.914336619424"
        ],
        [
         "1286",
         "3732.6251",
         "1092.4309361411624",
         "2640.194163858838",
         "2640.194163858838"
        ],
        [
         "707",
         "10264.4421",
         "11218.343183516348",
         "-953.9010835163481",
         "953.9010835163481"
        ],
        [
         "780",
         "18259.216",
         "28101.684552669965",
         "-9842.468552669965",
         "9842.468552669965"
        ],
        [
         "567",
         "7256.7231",
         "9377.734602045197",
         "-2121.0115020451967",
         "2121.0115020451967"
        ],
        [
         "76",
         "3947.4131",
         "5263.059517901978",
         "-1315.646417901978",
         "1315.646417901978"
        ],
        [
         "265",
         "46151.1245",
         "38416.042211067484",
         "7735.082288932514",
         "7735.082288932514"
        ],
        [
         "901",
         "48673.5588",
         "40255.82339284461",
         "8417.735407155385",
         "8417.735407155385"
        ],
        [
         "893",
         "44202.6536",
         "37098.253531229064",
         "7104.400068770934",
         "7104.400068770934"
        ],
        [
         "650",
         "9800.8882",
         "15240.393923059662",
         "-5439.505723059663",
         "5439.505723059663"
        ],
        [
         "615",
         "42969.8527",
         "35912.88264434412",
         "7056.970055655882",
         "7056.970055655882"
        ],
        [
         "538",
         "8233.0975",
         "9112.523987031156",
         "-879.4264870311563",
         "879.4264870311563"
        ],
        [
         "916",
         "21774.32215",
         "31461.921089091058",
         "-9687.598939091058",
         "9687.598939091058"
        ],
        [
         "413",
         "5080.096",
         "3847.6884588269204",
         "1232.4075411730792",
         "1232.4075411730792"
        ],
        [
         "598",
         "7441.501",
         "10130.120015169958",
         "-2688.6190151699575",
         "2688.6190151699575"
        ],
        [
         "513",
         "1256.299",
         "2370.5418938854227",
         "-1114.2428938854227",
         "1114.2428938854227"
        ],
        [
         "78",
         "2755.02095",
         "7140.21550828077",
         "-4385.19455828077",
         "4385.19455828077"
        ],
        [
         "1135",
         "11085.5868",
         "11301.767826377756",
         "-216.181026377757",
         "216.181026377757"
        ],
        [
         "561",
         "10923.9332",
         "12961.653662243927",
         "-2037.7204622439276",
         "2037.7204622439276"
        ],
        [
         "904",
         "12644.589",
         "14509.472518764665",
         "-1864.8835187646655",
         "1864.8835187646655"
        ],
        [
         "429",
         "18804.7524",
         "6159.8976107035105",
         "12644.85478929649",
         "12644.85478929649"
        ],
        [
         "275",
         "9715.841",
         "9963.858572625548",
         "-248.01757262554747",
         "248.01757262554747"
        ],
        [
         "808",
         "1131.5066",
         "2177.857182165373",
         "-1046.3505821653732",
         "1046.3505821653732"
        ],
        [
         "1253",
         "15828.82173",
         "9115.936734934981",
         "6712.884995065018",
         "6712.884995065018"
        ],
        [
         "765",
         "11842.62375",
         "13073.689321593502",
         "-1231.0655715935009",
         "1231.0655715935009"
        ],
        [
         "700",
         "2020.5523",
         "4561.823762017701",
         "-2541.2714620177003",
         "2541.2714620177003"
        ],
        [
         "1119",
         "5693.4305",
         "3408.2075603323465",
         "2285.222939667654",
         "2285.222939667654"
        ],
        [
         "1108",
         "2904.088",
         "4459.81359744855",
         "-1555.7255974485502",
         "1555.7255974485502"
        ],
        [
         "777",
         "7448.40395",
         "13032.065050757215",
         "-5583.6611007572155",
         "5583.6611007572155"
        ],
        [
         "363",
         "2597.779",
         "1979.9935729179924",
         "617.7854270820076",
         "617.7854270820076"
        ],
        [
         "1263",
         "7337.748",
         "8813.28303302499",
         "-1475.5350330249912",
         "1475.5350330249912"
        ],
        [
         "1176",
         "23887.6627",
         "33271.291244477194",
         "-9383.628544477193",
         "9383.628544477193"
        ],
        [
         "49",
         "38709.176",
         "32585.515839273216",
         "6123.660160726784",
         "6123.660160726784"
        ],
        [
         "32",
         "4687.797",
         "3908.76090964004",
         "779.0360903599594",
         "779.0360903599594"
        ],
        [
         "506",
         "2643.2685",
         "4326.107747209302",
         "-1682.839247209302",
         "1682.839247209302"
        ],
        [
         "945",
         "11674.13",
         "14142.813265328312",
         "-2468.6832653283127",
         "2468.6832653283127"
        ],
        [
         "1015",
         "12124.9924",
         "11423.45494846089",
         "701.5374515391086",
         "701.5374515391086"
        ],
        [
         "346",
         "4889.9995",
         "8774.139553114497",
         "-3884.1400531144973",
         "3884.1400531144973"
        ],
        [
         "233",
         "12333.828",
         "12097.280510006007",
         "236.5474899939927",
         "236.5474899939927"
        ],
        [
         "51",
         "3579.8287",
         "5281.573534986625",
         "-1701.7448349866254",
         "1701.7448349866254"
        ],
        [
         "869",
         "4391.652",
         "3150.559604198893",
         "1241.0923958011072",
         "1241.0923958011072"
        ],
        [
         "312",
         "42124.5153",
         "35494.4646121407",
         "6630.0506878593005",
         "6630.0506878593005"
        ],
        [
         "237",
         "4463.2051",
         "9150.112478596888",
         "-4686.907378596888",
         "4686.907378596888"
        ]
       ],
       "shape": {
        "columns": 4,
        "rows": 268
       }
      },
      "text/html": [
       "<div>\n",
       "<style scoped>\n",
       "    .dataframe tbody tr th:only-of-type {\n",
       "        vertical-align: middle;\n",
       "    }\n",
       "\n",
       "    .dataframe tbody tr th {\n",
       "        vertical-align: top;\n",
       "    }\n",
       "\n",
       "    .dataframe thead th {\n",
       "        text-align: right;\n",
       "    }\n",
       "</style>\n",
       "<table border=\"1\" class=\"dataframe\">\n",
       "  <thead>\n",
       "    <tr style=\"text-align: right;\">\n",
       "      <th></th>\n",
       "      <th>y_test</th>\n",
       "      <th>y_tahmin</th>\n",
       "      <th>hata</th>\n",
       "      <th>mutlak_hata</th>\n",
       "    </tr>\n",
       "  </thead>\n",
       "  <tbody>\n",
       "    <tr>\n",
       "      <th>764</th>\n",
       "      <td>9095.06825</td>\n",
       "      <td>8969.550274</td>\n",
       "      <td>125.517976</td>\n",
       "      <td>125.517976</td>\n",
       "    </tr>\n",
       "    <tr>\n",
       "      <th>887</th>\n",
       "      <td>5272.17580</td>\n",
       "      <td>7068.747443</td>\n",
       "      <td>-1796.571643</td>\n",
       "      <td>1796.571643</td>\n",
       "    </tr>\n",
       "    <tr>\n",
       "      <th>890</th>\n",
       "      <td>29330.98315</td>\n",
       "      <td>36858.410912</td>\n",
       "      <td>-7527.427762</td>\n",
       "      <td>7527.427762</td>\n",
       "    </tr>\n",
       "    <tr>\n",
       "      <th>1293</th>\n",
       "      <td>9301.89355</td>\n",
       "      <td>9454.678501</td>\n",
       "      <td>-152.784951</td>\n",
       "      <td>152.784951</td>\n",
       "    </tr>\n",
       "    <tr>\n",
       "      <th>259</th>\n",
       "      <td>33750.29180</td>\n",
       "      <td>26973.173457</td>\n",
       "      <td>6777.118343</td>\n",
       "      <td>6777.118343</td>\n",
       "    </tr>\n",
       "    <tr>\n",
       "      <th>...</th>\n",
       "      <td>...</td>\n",
       "      <td>...</td>\n",
       "      <td>...</td>\n",
       "      <td>...</td>\n",
       "    </tr>\n",
       "    <tr>\n",
       "      <th>109</th>\n",
       "      <td>47055.53210</td>\n",
       "      <td>39061.500932</td>\n",
       "      <td>7994.031168</td>\n",
       "      <td>7994.031168</td>\n",
       "    </tr>\n",
       "    <tr>\n",
       "      <th>575</th>\n",
       "      <td>12222.89830</td>\n",
       "      <td>11761.499198</td>\n",
       "      <td>461.399102</td>\n",
       "      <td>461.399102</td>\n",
       "    </tr>\n",
       "    <tr>\n",
       "      <th>535</th>\n",
       "      <td>6067.12675</td>\n",
       "      <td>7687.563632</td>\n",
       "      <td>-1620.436882</td>\n",
       "      <td>1620.436882</td>\n",
       "    </tr>\n",
       "    <tr>\n",
       "      <th>543</th>\n",
       "      <td>63770.42801</td>\n",
       "      <td>40920.291512</td>\n",
       "      <td>22850.136498</td>\n",
       "      <td>22850.136498</td>\n",
       "    </tr>\n",
       "    <tr>\n",
       "      <th>846</th>\n",
       "      <td>9872.70100</td>\n",
       "      <td>12318.586653</td>\n",
       "      <td>-2445.885653</td>\n",
       "      <td>2445.885653</td>\n",
       "    </tr>\n",
       "  </tbody>\n",
       "</table>\n",
       "<p>268 rows × 4 columns</p>\n",
       "</div>"
      ],
      "text/plain": [
       "           y_test      y_tahmin          hata   mutlak_hata\n",
       "764    9095.06825   8969.550274    125.517976    125.517976\n",
       "887    5272.17580   7068.747443  -1796.571643   1796.571643\n",
       "890   29330.98315  36858.410912  -7527.427762   7527.427762\n",
       "1293   9301.89355   9454.678501   -152.784951    152.784951\n",
       "259   33750.29180  26973.173457   6777.118343   6777.118343\n",
       "...           ...           ...           ...           ...\n",
       "109   47055.53210  39061.500932   7994.031168   7994.031168\n",
       "575   12222.89830  11761.499198    461.399102    461.399102\n",
       "535    6067.12675   7687.563632  -1620.436882   1620.436882\n",
       "543   63770.42801  40920.291512  22850.136498  22850.136498\n",
       "846    9872.70100  12318.586653  -2445.885653   2445.885653\n",
       "\n",
       "[268 rows x 4 columns]"
      ]
     },
     "execution_count": 37,
     "metadata": {},
     "output_type": "execute_result"
    }
   ],
   "source": [
    "hata_df[\"mutlak_hata\"]=np.abs(hata_df[\"hata\"]) # MAE (Mean Absolute Error - Ortalama Mutlak Hata)\n",
    "hata_df"
   ]
  },
  {
   "cell_type": "code",
   "execution_count": 38,
   "id": "e3dc5711",
   "metadata": {},
   "outputs": [
    {
     "data": {
      "application/vnd.microsoft.datawrangler.viewer.v0+json": {
       "columns": [
        {
         "name": "index",
         "rawType": "int64",
         "type": "integer"
        },
        {
         "name": "y_test",
         "rawType": "float64",
         "type": "float"
        },
        {
         "name": "y_tahmin",
         "rawType": "float64",
         "type": "float"
        },
        {
         "name": "hata",
         "rawType": "float64",
         "type": "float"
        },
        {
         "name": "mutlak_hata",
         "rawType": "float64",
         "type": "float"
        },
        {
         "name": "kare_hata",
         "rawType": "float64",
         "type": "float"
        }
       ],
       "ref": "bec9e5be-afb5-4333-8a7f-9d48a2550330",
       "rows": [
        [
         "764",
         "9095.06825",
         "8969.55027443615",
         "125.517975563851",
         "125.517975563851",
         "15754.762189647496"
        ],
        [
         "887",
         "5272.1758",
         "7068.747442870881",
         "-1796.571642870881",
         "1796.571642870881",
         "3227669.667967777"
        ],
        [
         "890",
         "29330.98315",
         "36858.41091154613",
         "-7527.427761546132",
         "7527.427761546132",
         "56662168.705295414"
        ],
        [
         "1293",
         "9301.89355",
         "9454.67850053361",
         "-152.78495053360894",
         "152.78495053360894",
         "23343.24110955733"
        ],
        [
         "259",
         "33750.2918",
         "26973.173456563487",
         "6777.118343436512",
         "6777.118343436512",
         "45929333.04094365"
        ],
        [
         "1312",
         "4536.259",
         "10864.113164237358",
         "-6327.854164237358",
         "6327.854164237358",
         "40041738.32385608"
        ],
        [
         "899",
         "2117.33885",
         "170.28084136499092",
         "1947.0580086350092",
         "1947.0580086350092",
         "3791034.8889897275"
        ],
        [
         "752",
         "14210.53595",
         "16903.450286619423",
         "-2692.914336619424",
         "2692.914336619424",
         "7251787.624370432"
        ],
        [
         "1286",
         "3732.6251",
         "1092.4309361411624",
         "2640.194163858838",
         "2640.194163858838",
         "6970625.222874268"
        ],
        [
         "707",
         "10264.4421",
         "11218.343183516348",
         "-953.9010835163481",
         "953.9010835163481",
         "909927.2771336628"
        ],
        [
         "780",
         "18259.216",
         "28101.684552669965",
         "-9842.468552669965",
         "9842.468552669965",
         "96874187.2102972"
        ],
        [
         "567",
         "7256.7231",
         "9377.734602045197",
         "-2121.0115020451967",
         "2121.0115020451967",
         "4498689.791808021"
        ],
        [
         "76",
         "3947.4131",
         "5263.059517901978",
         "-1315.646417901978",
         "1315.646417901978",
         "1730925.4969383064"
        ],
        [
         "265",
         "46151.1245",
         "38416.042211067484",
         "7735.082288932514",
         "7735.082288932514",
         "59831498.016557455"
        ],
        [
         "901",
         "48673.5588",
         "40255.82339284461",
         "8417.735407155385",
         "8417.735407155385",
         "70858269.38487744"
        ],
        [
         "893",
         "44202.6536",
         "37098.253531229064",
         "7104.400068770934",
         "7104.400068770934",
         "50472500.33715245"
        ],
        [
         "650",
         "9800.8882",
         "15240.393923059662",
         "-5439.505723059663",
         "5439.505723059663",
         "29588222.511198826"
        ],
        [
         "615",
         "42969.8527",
         "35912.88264434412",
         "7056.970055655882",
         "7056.970055655882",
         "49800826.36642378"
        ],
        [
         "538",
         "8233.0975",
         "9112.523987031156",
         "-879.4264870311563",
         "879.4264870311563",
         "773390.9460919605"
        ],
        [
         "916",
         "21774.32215",
         "31461.921089091058",
         "-9687.598939091058",
         "9687.598939091058",
         "93849573.2046782"
        ],
        [
         "413",
         "5080.096",
         "3847.6884588269204",
         "1232.4075411730792",
         "1232.4075411730792",
         "1518828.3475402747"
        ],
        [
         "598",
         "7441.501",
         "10130.120015169958",
         "-2688.6190151699575",
         "2688.6190151699575",
         "7228672.208733472"
        ],
        [
         "513",
         "1256.299",
         "2370.5418938854227",
         "-1114.2428938854227",
         "1114.2428938854227",
         "1241537.2265741616"
        ],
        [
         "78",
         "2755.02095",
         "7140.21550828077",
         "-4385.19455828077",
         "4385.19455828077",
         "19229931.31397528"
        ],
        [
         "1135",
         "11085.5868",
         "11301.767826377756",
         "-216.181026377757",
         "216.181026377757",
         "46734.23616574047"
        ],
        [
         "561",
         "10923.9332",
         "12961.653662243927",
         "-2037.7204622439276",
         "2037.7204622439276",
         "4152304.682247606"
        ],
        [
         "904",
         "12644.589",
         "14509.472518764665",
         "-1864.8835187646655",
         "1864.8835187646655",
         "3477790.5385600803"
        ],
        [
         "429",
         "18804.7524",
         "6159.8976107035105",
         "12644.85478929649",
         "12644.85478929649",
         "159892352.6423944"
        ],
        [
         "275",
         "9715.841",
         "9963.858572625548",
         "-248.01757262554747",
         "248.01757262554747",
         "61512.71633106872"
        ],
        [
         "808",
         "1131.5066",
         "2177.857182165373",
         "-1046.3505821653732",
         "1046.3505821653732",
         "1094849.5407978154"
        ],
        [
         "1253",
         "15828.82173",
         "9115.936734934981",
         "6712.884995065018",
         "6712.884995065018",
         "45062824.95696907"
        ],
        [
         "765",
         "11842.62375",
         "13073.689321593502",
         "-1231.0655715935009",
         "1231.0655715935009",
         "1515522.441562833"
        ],
        [
         "700",
         "2020.5523",
         "4561.823762017701",
         "-2541.2714620177003",
         "2541.2714620177003",
         "6458060.64366558"
        ],
        [
         "1119",
         "5693.4305",
         "3408.2075603323465",
         "2285.222939667654",
         "2285.222939667654",
         "5222243.883983274"
        ],
        [
         "1108",
         "2904.088",
         "4459.81359744855",
         "-1555.7255974485502",
         "1555.7255974485502",
         "2420282.1345566483"
        ],
        [
         "777",
         "7448.40395",
         "13032.065050757215",
         "-5583.6611007572155",
         "5583.6611007572155",
         "31177271.28810928"
        ],
        [
         "363",
         "2597.779",
         "1979.9935729179924",
         "617.7854270820076",
         "617.7854270820076",
         "381658.8339148985"
        ],
        [
         "1263",
         "7337.748",
         "8813.28303302499",
         "-1475.5350330249912",
         "1475.5350330249912",
         "2177203.633684062"
        ],
        [
         "1176",
         "23887.6627",
         "33271.291244477194",
         "-9383.628544477193",
         "9383.628544477193",
         "88052484.66072716"
        ],
        [
         "49",
         "38709.176",
         "32585.515839273216",
         "6123.660160726784",
         "6123.660160726784",
         "37499213.76407238"
        ],
        [
         "32",
         "4687.797",
         "3908.76090964004",
         "779.0360903599594",
         "779.0360903599594",
         "606897.2300833309"
        ],
        [
         "506",
         "2643.2685",
         "4326.107747209302",
         "-1682.839247209302",
         "1682.839247209302",
         "2831947.93194797"
        ],
        [
         "945",
         "11674.13",
         "14142.813265328312",
         "-2468.6832653283127",
         "2468.6832653283127",
         "6094397.06451206"
        ],
        [
         "1015",
         "12124.9924",
         "11423.45494846089",
         "701.5374515391086",
         "701.5374515391086",
         "492154.79591198714"
        ],
        [
         "346",
         "4889.9995",
         "8774.139553114497",
         "-3884.1400531144973",
         "3884.1400531144973",
         "15086543.95220829"
        ],
        [
         "233",
         "12333.828",
         "12097.280510006007",
         "236.5474899939927",
         "236.5474899939927",
         "55954.715022458084"
        ],
        [
         "51",
         "3579.8287",
         "5281.573534986625",
         "-1701.7448349866254",
         "1701.7448349866254",
         "2895935.483403657"
        ],
        [
         "869",
         "4391.652",
         "3150.559604198893",
         "1241.0923958011072",
         "1241.0923958011072",
         "1540310.334915332"
        ],
        [
         "312",
         "42124.5153",
         "35494.4646121407",
         "6630.0506878593005",
         "6630.0506878593005",
         "43957572.123583585"
        ],
        [
         "237",
         "4463.2051",
         "9150.112478596888",
         "-4686.907378596888",
         "4686.907378596888",
         "21967100.775545947"
        ]
       ],
       "shape": {
        "columns": 5,
        "rows": 268
       }
      },
      "text/html": [
       "<div>\n",
       "<style scoped>\n",
       "    .dataframe tbody tr th:only-of-type {\n",
       "        vertical-align: middle;\n",
       "    }\n",
       "\n",
       "    .dataframe tbody tr th {\n",
       "        vertical-align: top;\n",
       "    }\n",
       "\n",
       "    .dataframe thead th {\n",
       "        text-align: right;\n",
       "    }\n",
       "</style>\n",
       "<table border=\"1\" class=\"dataframe\">\n",
       "  <thead>\n",
       "    <tr style=\"text-align: right;\">\n",
       "      <th></th>\n",
       "      <th>y_test</th>\n",
       "      <th>y_tahmin</th>\n",
       "      <th>hata</th>\n",
       "      <th>mutlak_hata</th>\n",
       "      <th>kare_hata</th>\n",
       "    </tr>\n",
       "  </thead>\n",
       "  <tbody>\n",
       "    <tr>\n",
       "      <th>764</th>\n",
       "      <td>9095.06825</td>\n",
       "      <td>8969.550274</td>\n",
       "      <td>125.517976</td>\n",
       "      <td>125.517976</td>\n",
       "      <td>1.575476e+04</td>\n",
       "    </tr>\n",
       "    <tr>\n",
       "      <th>887</th>\n",
       "      <td>5272.17580</td>\n",
       "      <td>7068.747443</td>\n",
       "      <td>-1796.571643</td>\n",
       "      <td>1796.571643</td>\n",
       "      <td>3.227670e+06</td>\n",
       "    </tr>\n",
       "    <tr>\n",
       "      <th>890</th>\n",
       "      <td>29330.98315</td>\n",
       "      <td>36858.410912</td>\n",
       "      <td>-7527.427762</td>\n",
       "      <td>7527.427762</td>\n",
       "      <td>5.666217e+07</td>\n",
       "    </tr>\n",
       "    <tr>\n",
       "      <th>1293</th>\n",
       "      <td>9301.89355</td>\n",
       "      <td>9454.678501</td>\n",
       "      <td>-152.784951</td>\n",
       "      <td>152.784951</td>\n",
       "      <td>2.334324e+04</td>\n",
       "    </tr>\n",
       "    <tr>\n",
       "      <th>259</th>\n",
       "      <td>33750.29180</td>\n",
       "      <td>26973.173457</td>\n",
       "      <td>6777.118343</td>\n",
       "      <td>6777.118343</td>\n",
       "      <td>4.592933e+07</td>\n",
       "    </tr>\n",
       "    <tr>\n",
       "      <th>...</th>\n",
       "      <td>...</td>\n",
       "      <td>...</td>\n",
       "      <td>...</td>\n",
       "      <td>...</td>\n",
       "      <td>...</td>\n",
       "    </tr>\n",
       "    <tr>\n",
       "      <th>109</th>\n",
       "      <td>47055.53210</td>\n",
       "      <td>39061.500932</td>\n",
       "      <td>7994.031168</td>\n",
       "      <td>7994.031168</td>\n",
       "      <td>6.390453e+07</td>\n",
       "    </tr>\n",
       "    <tr>\n",
       "      <th>575</th>\n",
       "      <td>12222.89830</td>\n",
       "      <td>11761.499198</td>\n",
       "      <td>461.399102</td>\n",
       "      <td>461.399102</td>\n",
       "      <td>2.128891e+05</td>\n",
       "    </tr>\n",
       "    <tr>\n",
       "      <th>535</th>\n",
       "      <td>6067.12675</td>\n",
       "      <td>7687.563632</td>\n",
       "      <td>-1620.436882</td>\n",
       "      <td>1620.436882</td>\n",
       "      <td>2.625816e+06</td>\n",
       "    </tr>\n",
       "    <tr>\n",
       "      <th>543</th>\n",
       "      <td>63770.42801</td>\n",
       "      <td>40920.291512</td>\n",
       "      <td>22850.136498</td>\n",
       "      <td>22850.136498</td>\n",
       "      <td>5.221287e+08</td>\n",
       "    </tr>\n",
       "    <tr>\n",
       "      <th>846</th>\n",
       "      <td>9872.70100</td>\n",
       "      <td>12318.586653</td>\n",
       "      <td>-2445.885653</td>\n",
       "      <td>2445.885653</td>\n",
       "      <td>5.982357e+06</td>\n",
       "    </tr>\n",
       "  </tbody>\n",
       "</table>\n",
       "<p>268 rows × 5 columns</p>\n",
       "</div>"
      ],
      "text/plain": [
       "           y_test      y_tahmin          hata   mutlak_hata     kare_hata\n",
       "764    9095.06825   8969.550274    125.517976    125.517976  1.575476e+04\n",
       "887    5272.17580   7068.747443  -1796.571643   1796.571643  3.227670e+06\n",
       "890   29330.98315  36858.410912  -7527.427762   7527.427762  5.666217e+07\n",
       "1293   9301.89355   9454.678501   -152.784951    152.784951  2.334324e+04\n",
       "259   33750.29180  26973.173457   6777.118343   6777.118343  4.592933e+07\n",
       "...           ...           ...           ...           ...           ...\n",
       "109   47055.53210  39061.500932   7994.031168   7994.031168  6.390453e+07\n",
       "575   12222.89830  11761.499198    461.399102    461.399102  2.128891e+05\n",
       "535    6067.12675   7687.563632  -1620.436882   1620.436882  2.625816e+06\n",
       "543   63770.42801  40920.291512  22850.136498  22850.136498  5.221287e+08\n",
       "846    9872.70100  12318.586653  -2445.885653   2445.885653  5.982357e+06\n",
       "\n",
       "[268 rows x 5 columns]"
      ]
     },
     "execution_count": 38,
     "metadata": {},
     "output_type": "execute_result"
    }
   ],
   "source": [
    "hata_df[\"kare_hata\"]=hata_df[\"hata\"]**2 # MSE (Mean Squared Error - Ortalama Kare Hatası)\n",
    "hata_df"
   ]
  },
  {
   "cell_type": "code",
   "execution_count": 39,
   "id": "71902bbc",
   "metadata": {},
   "outputs": [
    {
     "data": {
      "text/plain": [
       "0.7835929767120723"
      ]
     },
     "execution_count": 39,
     "metadata": {},
     "output_type": "execute_result"
    }
   ],
   "source": [
    "SS_hata = hata_df[\"kare_hata\"].sum()\n",
    "SS_toplam = ((y_test - y_test.mean())**2).sum()\n",
    "R2 = (1 - (SS_hata/SS_toplam))\n",
    "R2"
   ]
  },
  {
   "cell_type": "code",
   "execution_count": 40,
   "id": "c08bc06c",
   "metadata": {},
   "outputs": [
    {
     "data": {
      "application/vnd.microsoft.datawrangler.viewer.v0+json": {
       "columns": [
        {
         "name": "index",
         "rawType": "object",
         "type": "string"
        },
        {
         "name": "0",
         "rawType": "float64",
         "type": "float"
        }
       ],
       "ref": "5aa8724b-880f-443e-9cb8-b610d3a2c112",
       "rows": [
        [
         "hata",
         "-219.24066962508743"
        ],
        [
         "mutlak_hata",
         "4181.1944737536505"
        ],
        [
         "kare_hata",
         "33596915.85136146"
        ]
       ],
       "shape": {
        "columns": 1,
        "rows": 3
       }
      },
      "text/plain": [
       "hata          -2.192407e+02\n",
       "mutlak_hata    4.181194e+03\n",
       "kare_hata      3.359692e+07\n",
       "dtype: float64"
      ]
     },
     "execution_count": 40,
     "metadata": {},
     "output_type": "execute_result"
    }
   ],
   "source": [
    "hata_df.drop(columns=[\"y_test\",\"y_tahmin\"]).mean()"
   ]
  },
  {
   "cell_type": "code",
   "execution_count": 41,
   "id": "383c2c83",
   "metadata": {},
   "outputs": [
    {
     "name": "stdout",
     "output_type": "stream",
     "text": [
      "R² Skoru: 0.7835929767120723\n",
      "MAE: 4181.1944737536505\n",
      "MSE: 33596915.85136146\n"
     ]
    }
   ],
   "source": [
    "print(\"R² Skoru:\", r2_score(y_test, y_pred))\n",
    "print(\"MAE:\", mean_absolute_error(y_test, y_pred))\n",
    "print(\"MSE:\", mean_squared_error(y_test, y_pred))"
   ]
  },
  {
   "cell_type": "markdown",
   "id": "1a2798a4",
   "metadata": {},
   "source": [
    "# 4. Veri Setinin Grafiklerle Görselleştirilmesi\n",
    "\n",
    "Bu bölümde, veri setinde yer alan değişkenler görsel olarak incelenmiş ve aralarındaki ilişkiler çeşitli grafiklerle analiz edilmiştir. Görselleştirme işlemleri `seaborn` ve `matplotlib` kütüphaneleri kullanılarak gerçekleştirilmiştir."
   ]
  },
  {
   "cell_type": "code",
   "execution_count": 42,
   "id": "2deb8d77",
   "metadata": {},
   "outputs": [
    {
     "data": {
      "image/png": "[encoded data removed]",
      "text/plain": [
       "<Figure size 1500x1200 with 9 Axes>"
      ]
     },
     "metadata": {},
     "output_type": "display_data"
    }
   ],
   "source": [
    "# Örnek: 3x3 şeklinde 9 grafik olacak\n",
    "n = len(df.columns) # Kaç sütun var\n",
    "\n",
    "# 3 satır 3 sütun şeklinde alt grafikler\n",
    "fig, axes = plt.subplots(nrows=3, ncols=3, figsize=(15, 12)) \n",
    "\n",
    "# Eğer sütun sayısı 9'ten fazla ise, o zaman bunu esnetebilirsin\n",
    "axes = axes.flatten()  # axes'leri düzleştir, böylece daha kolay indeksleyebilirsin\n",
    "\n",
    "for idx, sütun_ismi in enumerate(df.columns):\n",
    "    sns.histplot(df[sütun_ismi], kde=True, ax=axes[idx],edgecolor=\"black\")  # ax=axes[idx] ile her grafiği alt grafikte göster\n",
    "    axes[idx].set_title(sütun_ismi.capitalize() + \" Değişkeni Histogramı\")\n",
    "    axes[idx].set_xlabel(\"Değer\")\n",
    "    axes[idx].set_ylabel(\"Frekans\")\n",
    "\n",
    "plt.tight_layout()  # Grafiklerin arasındaki boşlukları düzenle\n",
    "plt.show()"
   ]
  },
  {
   "cell_type": "code",
   "execution_count": 43,
   "id": "9244aa27",
   "metadata": {},
   "outputs": [
    {
     "data": {
      "image/png": "[encoded data removed]",
      "text/plain": [
       "<Figure size 1000x800 with 2 Axes>"
      ]
     },
     "metadata": {},
     "output_type": "display_data"
    }
   ],
   "source": [
    "# Korelasyon matrisini oluşturma\n",
    "correlation_matrix = df.corr()\n",
    "\n",
    "# Korelasyon matrisinin heatmap ile görselleştirilmesi\n",
    "plt.figure(figsize=(10,8))\n",
    "sns.heatmap(correlation_matrix, annot=True, cmap='coolwarm', fmt='.2f', linewidths=0.5)\n",
    "plt.title('Değişkenler Arası Korelasyon Matrisi')\n",
    "plt.show()\n",
    "\n",
    "#charges değişkeninin en çok smoker, age ve bmi ile korelasyon gösterdiği görülmüştür."
   ]
  },
  {
   "cell_type": "code",
   "execution_count": 44,
   "id": "45d56135",
   "metadata": {},
   "outputs": [
    {
     "data": {
      "image/png": "[encoded data removed]",
      "text/plain": [
       "<Figure size 562.111x500 with 1 Axes>"
      ]
     },
     "metadata": {},
     "output_type": "display_data"
    }
   ],
   "source": [
    "sns.lmplot(x='age', y='charges', data=df, hue='smoker',markers=[\"o\",\",\"])\n",
    "plt.title(\"Yaş ve Sigorta Ücreti İlişkisi (Smoker Bazında)\")\n",
    "plt.xlabel(\"Yaş\")\n",
    "plt.ylabel(\"Sigorta Ücreti (charges)\")\n",
    "plt.show()"
   ]
  },
  {
   "cell_type": "code",
   "execution_count": 45,
   "id": "059313b1",
   "metadata": {},
   "outputs": [
    {
     "data": {
      "image/png": "[encoded data removed]",
      "text/plain": [
       "<Figure size 562.111x500 with 1 Axes>"
      ]
     },
     "metadata": {},
     "output_type": "display_data"
    }
   ],
   "source": [
    "sns.lmplot(x='bmi', y='charges', data=df, hue='smoker',markers=[\"o\",\",\"])\n",
    "plt.title(\"BMI ve Sigorta Ücreti İlişkisi (Smoker Bazında)\")\n",
    "plt.xlabel(\"BMI\")\n",
    "plt.ylabel(\"Sigorta Ücreti (charges)\")\n",
    "plt.show()\n",
    "# Scatter plot'lar sigara içmenin (smoker) charges üzerindeki güçlü etkisini açıkça ortaya koymaktadır.\n",
    "# Özellikle BMI değeri yüksek ve sigara içen bireylerin sigorta ücretlerinin belirgin biçimde arttığı gözlemlenmiştir."
   ]
  },
  {
   "cell_type": "markdown",
   "id": "75015cbf",
   "metadata": {},
   "source": [
    "# 10. Tek Yönlü ANOVA Tablosunun Oluşturulması ve Yorumlanması\n",
    "\n",
    "### 🎯 Amaç\n",
    "ANOVA (Varyans Analizi), bağımsız değişkenlerin bağımlı değişken üzerindeki etkilerini değerlendirmek için kullanılır. Bu analiz, modeldeki değişkenlerin anlamlı katkılar sağlayıp sağlamadığını test eder.\n",
    "\n",
    "---\n",
    "\n",
    "### 🧠 İstatistiksel Arka Plan\n",
    "\n",
    "ANOVA tablosu aşağıdaki bileşenlerden oluşur:\n",
    "\n",
    "| Terim | Açıklama |\n",
    "|-------|----------|\n",
    "| **SS (Sum of Squares)** | Toplam sapma kareleri |\n",
    "| **df (degrees of freedom)** | Serbestlik derecesi |\n",
    "| **MS (Mean Squares)** | Ortalama kare: SS / df |\n",
    "| **F** | F-istatistiği: MS_regression / MS_residual |\n",
    "| **p-value** | Anlamlılık düzeyi |"
   ]
  },
  {
   "cell_type": "code",
   "execution_count": 46,
   "id": "0eec3546",
   "metadata": {},
   "outputs": [
    {
     "name": "stdout",
     "output_type": "stream",
     "text": [
      "                        sum_sq      df            F         PR(>F)\n",
      "region_northwest  1.792118e+07     1.0     0.476704   4.900699e-01\n",
      "region_southeast  5.583917e+07     1.0     1.485326   2.232140e-01\n",
      "region_southwest  8.606508e+07     1.0     2.289337   1.305634e-01\n",
      "age               1.366732e+10     1.0   363.551560   6.310917e-70\n",
      "sex               9.182822e+04     1.0     0.002443   9.605915e-01\n",
      "bmi               4.051613e+09     1.0   107.773172   4.109401e-24\n",
      "children          2.842736e+08     1.0     7.561696   6.063516e-03\n",
      "smoker            9.662924e+10     1.0  2570.344251  9.774475e-286\n",
      "Residual          3.988712e+10  1061.0          NaN            NaN\n"
     ]
    }
   ],
   "source": [
    "import statsmodels.api as sm\n",
    "from statsmodels.formula.api import ols\n",
    "\n",
    "# Tüm verileri tek bir DataFrame içinde birleştir\n",
    "df_train = X_train.copy()\n",
    "df_train['target'] = y_train\n",
    "\n",
    "# Formül belirt — bağımlı değişken: target, bağımsız değişkenler: tüm sütunlar\n",
    "formula = 'target ~ ' + ' + '.join(X_train.columns)\n",
    "\n",
    "# OLS modelini formül ile kur\n",
    "ols_model = ols(formula, data=df_train).fit()\n",
    "\n",
    "# ANOVA tablosu\n",
    "anova_table = sm.stats.anova_lm(ols_model, typ=2)\n",
    "print(anova_table)"
   ]
  },
  {
   "cell_type": "markdown",
   "id": "619cbd3d",
   "metadata": {},
   "source": [
    "**sum_sq:** Bağımsız değişkenin model üzerindeki katkısını gösterir.\n",
    "\n",
    "**df:** Serbestlik derecesini ifade eder.\n",
    "\n",
    "**F:** Her bir değişkenin bağımlı değişken üzerindeki etkisinin büyüklüğünü gösterir.\n",
    "\n",
    "**PR(>F):** Anlamlılık testi sonucu olan p-değeri. Eğer p-değeri küçükse, o değişkenin modelde önemli bir rolü olduğunu söyleyebiliriz."
   ]
  },
  {
   "cell_type": "markdown",
   "id": "13de6626",
   "metadata": {},
   "source": [
    "# 11. Yapılan Çalışmanın ve Sonuçların Özeti\n",
    "\n",
    "Bu projede, bireylerin sağlık sigortası maliyetlerini (`charges`) etkileyen faktörler incelenmiş ve bu doğrultuda istatistiksel analizler ile makine öğrenmesi temelli bir regresyon modeli kurulmuştur. Aşağıda adım adım elde edilen bulgular ve çıkarımlar yer almaktadır:\n",
    "\n",
    "---\n",
    "\n",
    "### 📊 Veri Seti Özeti\n",
    "\n",
    "- Veri seti toplam **1338 gözlem** içermektedir.\n",
    "- Eksik veri bulunmamaktadır.\n",
    "- Veri setinde hem **sayısal** (`age`, `bmi`, `children`, `charges`) hem de **kategorik** (`sex`, `smoker`, `region`) değişkenler yer almaktadır.\n",
    "\n",
    "---\n",
    "\n",
    "### 🔍 Veri Analizi ve Görselleştirme\n",
    "\n",
    "- Sayısal değişkenler histogramlar ile incelenmiş, normal dağılıma yakınlıkları değerlendirilmiştir.\n",
    "- Korelasyon matrisi ve scatter plot'lar sayesinde `smoker`, `age`, `bmi` değişkenlerinin `charges` ile güçlü ilişki içinde olduğu görülmüştür.\n",
    "- Sigara kullanan bireylerin sigorta ücretlerinin gözle görülür şekilde daha yüksek olduğu tespit edilmiştir.\n",
    "\n",
    "---\n",
    "\n",
    "### 🧮 İstatistiksel Analiz Sonuçları\n",
    "\n",
    "- **Ortalama için güven aralığı (%95):** `charges` değişkeninin ortalaması 12600 – 13900 aralığında bulunmuştur.\n",
    "- **Ortalama için hipotez testi:** Sigorta ücretlerinin ortalamasının 14,000 TL'den anlamlı şekilde farklı olduğu sonucuna varılmıştır (p < 0.05).\n",
    "- **Varyans için güven aralığı ve hipotez testi:** Varyansın yüksek ve 100 milyon referans değerinden anlamlı derecede farklı olduğu ortaya konmuştur.\n",
    "\n",
    "---\n",
    "\n",
    "### 📈 Regresyon Analizi Sonuçları\n",
    "\n",
    "- Çoklu lineer regresyon modeli kurulmuş ve veri ön işlemeleri (encoding, scaling) gerçekleştirilmiştir.\n",
    "- Modelin **R² skoru ≈ 0.78** olarak hesaplanmıştır; yani bağımsız değişkenler `charges` değişkenindeki varyansın yaklaşık %78’ini açıklamaktadır.\n",
    "- **En önemli etkileyen faktörler:** `smoker`, `age`, `bmi`\n",
    "- Regresyon denklemi çıkarılmış, hata metrikleri (MAE, MSE) hesaplanmıştır.\n",
    "\n",
    "---\n",
    "\n",
    "### 📊 ANOVA Sonuçları\n",
    "\n",
    "- ANOVA tablosu yardımıyla `smoker`, `age` ve `bmi` değişkenlerinin istatistiksel olarak anlamlı olduğu görülmüştür.\n",
    "- Bazı değişkenlerin (`sex`, `region`) modelde anlamlı katkı sunmadığı saptanmıştır.\n",
    "\n",
    "---\n",
    "\n",
    "### ✅ Genel Yorum ve Öneriler\n",
    "\n",
    "- Modelleme sonucunda sigara içmenin sağlık sigortası ücretleri üzerinde ciddi bir etkisi olduğu doğrulanmıştır. Bu bulgu, sigorta primlerinin belirlenmesinde doğrudan kullanılabilir.\n",
    "- Model, lineer yapıya dayalıdır. Daha iyi doğruluk için **non-lineer modeller (Random Forest, XGBoost, vb.)** ile karşılaştırmalı çalışmalar yapılabilir.\n",
    "- Model artıklarının (residuals) normal dağılıma uygunluğu ve sabit varyans varsayımı ayrıca test edilerek modelin sağlamlığı artırılabilir.\n",
    "- Özellik seçimi (feature selection) ve model sadeleştirme süreçleriyle daha kompakt ve açıklayıcı modeller elde edilebilir.\n",
    "\n",
    "---\n",
    "\n",
    "### 📌 Son Söz\n",
    "\n",
    "Bu proje kapsamında yapılan analizler, veri bilimi projelerinde izlenecek sistematik yaklaşımı ortaya koymuştur: veri keşfi → görselleştirme → istatistiksel testler → modelleme → yorumlama. Bulgular sigorta sektöründe politika oluşturma ve fiyatlandırma kararlarında destekleyici nitelikte olabilir.\n"
   ]
  }
 ],
 "metadata": {
  "kernelspec": {
   "display_name": "Python 3",
   "language": "python",
   "name": "python3"
  },
  "language_info": {
   "codemirror_mode": {
    "name": "ipython",
    "version": 3
   },
   "file_extension": ".py",
   "mimetype": "text/x-python",
   "name": "python",
   "nbconvert_exporter": "python",
   "pygments_lexer": "ipython3",
   "version": "3.12.6"
  }
 },
 "nbformat": 4,
 "nbformat_minor": 5
}
